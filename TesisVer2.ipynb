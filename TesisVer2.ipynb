{
 "cells": [
  {
   "cell_type": "code",
   "execution_count": 1,
   "metadata": {
    "id": "EShZhZGwLsmm"
   },
   "outputs": [],
   "source": [
    "import os\n",
    "import pandas as pd\n",
    "import numpy as np\n",
    "from sklearn import preprocessing,metrics \n",
    "from IPython.core.display import HTML\n",
    "pd.set_option(\"display.max_columns\",75)\n",
    "import warnings\n",
    "warnings.filterwarnings('ignore')\n",
    "from sklearn.model_selection import train_test_split\n",
    "from sklearn.ensemble import RandomForestClassifier\n",
    "from sklearn.neighbors import KNeighborsClassifier\n",
    "from sklearn.metrics import accuracy_score\n",
    "import matplotlib.pyplot as plt\n",
    "import seaborn as sns\n",
    "%matplotlib inline\n",
    "from sklearn import linear_model,svm\n",
    "from sklearn.metrics import average_precision_score\n",
    "from sklearn.metrics import precision_recall_curve"
   ]
  },
  {
   "cell_type": "markdown",
   "metadata": {
    "id": "vzPre3lOqncf"
   },
   "source": [
    "Importación de datos de Lending Club para los años 2012-14"
   ]
  },
  {
   "cell_type": "code",
   "execution_count": 2,
   "metadata": {
    "id": "b3Po_qyRL1Q1"
   },
   "outputs": [],
   "source": [
    "df2012_13 = pd.read_csv('./LoanStats_2012_to_2013.csv',low_memory=False,skiprows=1)\n",
    "df2014 = pd.read_csv('./LoanStats_2014.csv',low_memory=False,skiprows=1)"
   ]
  },
  {
   "cell_type": "markdown",
   "metadata": {
    "id": "OdCfPdZ-qqhp"
   },
   "source": [
    "Limpieza de datos:"
   ]
  },
  {
   "cell_type": "markdown",
   "metadata": {
    "id": "xBGRE_Dzqtjw"
   },
   "source": [
    "- Conjuntos de datos fusionados de 2012-14\n",
    "- Eliminamos todas las columnas vacías (estas son las columnas con datos personales de los prestatarios. Estas no son divulgadas por la empresa, por lo que las eliminamos)\n",
    "- Variable de destino (el prestatario es un moroso del préstamo): codificada en 0 o 1"
   ]
  },
  {
   "cell_type": "code",
   "execution_count": 3,
   "metadata": {
    "id": "3bvsjU6ZTs6w"
   },
   "outputs": [],
   "source": [
    "dataset = pd.concat([df2012_13, df2014]) #fusionando conjuntos de datos de 2012 a 2014\n",
    "dataset = dataset.iloc[:,2:111]          #eliminar columnas vacías\n",
    "empty_cols = [i for i in range(45,72)]   #más columnas vacías\n",
    "dataset = dataset.drop(dataset.columns[empty_cols],axis=1)\n",
    "data_with_loanstatus_sliced = dataset[(dataset['loan_status']==\"Fully Paid\") | (dataset['loan_status']==\"Charged Off\")]\n",
    "di = {\"Fully Paid\":0, \"Charged Off\":1}   #convertir la variable de destino a booleana\n",
    "Dataset_withBoolTarget= data_with_loanstatus_sliced.replace({\"loan_status\": di})"
   ]
  },
  {
   "cell_type": "code",
   "execution_count": 4,
   "metadata": {
    "colab": {
     "base_uri": "https://localhost:8080/",
     "height": 367
    },
    "id": "HAEcGQdrT1HH",
    "outputId": "83280408-5d7d-4b65-9aca-71100edb27c2"
   },
   "outputs": [
    {
     "name": "stdout",
     "output_type": "stream",
     "text": [
      "Current shape of dataset : (398460, 82)\n"
     ]
    },
    {
     "data": {
      "text/html": [
       "<div>\n",
       "<style scoped>\n",
       "    .dataframe tbody tr th:only-of-type {\n",
       "        vertical-align: middle;\n",
       "    }\n",
       "\n",
       "    .dataframe tbody tr th {\n",
       "        vertical-align: top;\n",
       "    }\n",
       "\n",
       "    .dataframe thead th {\n",
       "        text-align: right;\n",
       "    }\n",
       "</style>\n",
       "<table border=\"1\" class=\"dataframe\">\n",
       "  <thead>\n",
       "    <tr style=\"text-align: right;\">\n",
       "      <th></th>\n",
       "      <th>loan_amnt</th>\n",
       "      <th>funded_amnt</th>\n",
       "      <th>funded_amnt_inv</th>\n",
       "      <th>term</th>\n",
       "      <th>int_rate</th>\n",
       "      <th>installment</th>\n",
       "      <th>grade</th>\n",
       "      <th>sub_grade</th>\n",
       "      <th>emp_title</th>\n",
       "      <th>emp_length</th>\n",
       "      <th>home_ownership</th>\n",
       "      <th>annual_inc</th>\n",
       "      <th>verification_status</th>\n",
       "      <th>issue_d</th>\n",
       "      <th>loan_status</th>\n",
       "      <th>pymnt_plan</th>\n",
       "      <th>url</th>\n",
       "      <th>desc</th>\n",
       "      <th>purpose</th>\n",
       "      <th>title</th>\n",
       "      <th>zip_code</th>\n",
       "      <th>addr_state</th>\n",
       "      <th>dti</th>\n",
       "      <th>delinq_2yrs</th>\n",
       "      <th>earliest_cr_line</th>\n",
       "      <th>inq_last_6mths</th>\n",
       "      <th>mths_since_last_delinq</th>\n",
       "      <th>mths_since_last_record</th>\n",
       "      <th>open_acc</th>\n",
       "      <th>pub_rec</th>\n",
       "      <th>revol_bal</th>\n",
       "      <th>revol_util</th>\n",
       "      <th>total_acc</th>\n",
       "      <th>initial_list_status</th>\n",
       "      <th>out_prncp</th>\n",
       "      <th>out_prncp_inv</th>\n",
       "      <th>total_pymnt</th>\n",
       "      <th>...</th>\n",
       "      <th>acc_open_past_24mths</th>\n",
       "      <th>avg_cur_bal</th>\n",
       "      <th>bc_open_to_buy</th>\n",
       "      <th>bc_util</th>\n",
       "      <th>chargeoff_within_12_mths</th>\n",
       "      <th>delinq_amnt</th>\n",
       "      <th>mo_sin_old_il_acct</th>\n",
       "      <th>mo_sin_old_rev_tl_op</th>\n",
       "      <th>mo_sin_rcnt_rev_tl_op</th>\n",
       "      <th>mo_sin_rcnt_tl</th>\n",
       "      <th>mort_acc</th>\n",
       "      <th>mths_since_recent_bc</th>\n",
       "      <th>mths_since_recent_bc_dlq</th>\n",
       "      <th>mths_since_recent_inq</th>\n",
       "      <th>mths_since_recent_revol_delinq</th>\n",
       "      <th>num_accts_ever_120_pd</th>\n",
       "      <th>num_actv_bc_tl</th>\n",
       "      <th>num_actv_rev_tl</th>\n",
       "      <th>num_bc_sats</th>\n",
       "      <th>num_bc_tl</th>\n",
       "      <th>num_il_tl</th>\n",
       "      <th>num_op_rev_tl</th>\n",
       "      <th>num_rev_accts</th>\n",
       "      <th>num_rev_tl_bal_gt_0</th>\n",
       "      <th>num_sats</th>\n",
       "      <th>num_tl_120dpd_2m</th>\n",
       "      <th>num_tl_30dpd</th>\n",
       "      <th>num_tl_90g_dpd_24m</th>\n",
       "      <th>num_tl_op_past_12m</th>\n",
       "      <th>pct_tl_nvr_dlq</th>\n",
       "      <th>percent_bc_gt_75</th>\n",
       "      <th>pub_rec_bankruptcies</th>\n",
       "      <th>tax_liens</th>\n",
       "      <th>tot_hi_cred_lim</th>\n",
       "      <th>total_bal_ex_mort</th>\n",
       "      <th>total_bc_limit</th>\n",
       "      <th>total_il_high_credit_limit</th>\n",
       "    </tr>\n",
       "  </thead>\n",
       "  <tbody>\n",
       "    <tr>\n",
       "      <th>0</th>\n",
       "      <td>11500.0</td>\n",
       "      <td>11500.0</td>\n",
       "      <td>11500.0</td>\n",
       "      <td>60 months</td>\n",
       "      <td>22.90%</td>\n",
       "      <td>323.54</td>\n",
       "      <td>E</td>\n",
       "      <td>E4</td>\n",
       "      <td>Secretary</td>\n",
       "      <td>4 years</td>\n",
       "      <td>RENT</td>\n",
       "      <td>32760.0</td>\n",
       "      <td>Verified</td>\n",
       "      <td>Dec-2013</td>\n",
       "      <td>0</td>\n",
       "      <td>n</td>\n",
       "      <td>NaN</td>\n",
       "      <td>Borrower added on 12/31/13 &gt; This loan is fo...</td>\n",
       "      <td>debt_consolidation</td>\n",
       "      <td>Debt Killer</td>\n",
       "      <td>937xx</td>\n",
       "      <td>CA</td>\n",
       "      <td>27.06</td>\n",
       "      <td>0.0</td>\n",
       "      <td>Mar-1999</td>\n",
       "      <td>0.0</td>\n",
       "      <td>NaN</td>\n",
       "      <td>NaN</td>\n",
       "      <td>12.0</td>\n",
       "      <td>0.0</td>\n",
       "      <td>9996.0</td>\n",
       "      <td>70.9%</td>\n",
       "      <td>17.0</td>\n",
       "      <td>f</td>\n",
       "      <td>0.0</td>\n",
       "      <td>0.0</td>\n",
       "      <td>18786.250257</td>\n",
       "      <td>...</td>\n",
       "      <td>9.0</td>\n",
       "      <td>2060.0</td>\n",
       "      <td>2689.0</td>\n",
       "      <td>70.1</td>\n",
       "      <td>0.0</td>\n",
       "      <td>0.0</td>\n",
       "      <td>34.0</td>\n",
       "      <td>177.0</td>\n",
       "      <td>14.0</td>\n",
       "      <td>1.0</td>\n",
       "      <td>0.0</td>\n",
       "      <td>20.0</td>\n",
       "      <td>NaN</td>\n",
       "      <td>14.0</td>\n",
       "      <td>NaN</td>\n",
       "      <td>0.0</td>\n",
       "      <td>5.0</td>\n",
       "      <td>8.0</td>\n",
       "      <td>6.0</td>\n",
       "      <td>7.0</td>\n",
       "      <td>4.0</td>\n",
       "      <td>10.0</td>\n",
       "      <td>13.0</td>\n",
       "      <td>8.0</td>\n",
       "      <td>12.0</td>\n",
       "      <td>0.0</td>\n",
       "      <td>0.0</td>\n",
       "      <td>0.0</td>\n",
       "      <td>2.0</td>\n",
       "      <td>100.0</td>\n",
       "      <td>50.0</td>\n",
       "      <td>0.0</td>\n",
       "      <td>0.0</td>\n",
       "      <td>30891.0</td>\n",
       "      <td>24724.0</td>\n",
       "      <td>9000.0</td>\n",
       "      <td>16791.0</td>\n",
       "    </tr>\n",
       "    <tr>\n",
       "      <th>1</th>\n",
       "      <td>28000.0</td>\n",
       "      <td>28000.0</td>\n",
       "      <td>28000.0</td>\n",
       "      <td>36 months</td>\n",
       "      <td>7.62%</td>\n",
       "      <td>872.52</td>\n",
       "      <td>A</td>\n",
       "      <td>A3</td>\n",
       "      <td>Area Sales Manager</td>\n",
       "      <td>5 years</td>\n",
       "      <td>MORTGAGE</td>\n",
       "      <td>325000.0</td>\n",
       "      <td>Source Verified</td>\n",
       "      <td>Dec-2013</td>\n",
       "      <td>0</td>\n",
       "      <td>n</td>\n",
       "      <td>NaN</td>\n",
       "      <td>NaN</td>\n",
       "      <td>debt_consolidation</td>\n",
       "      <td>Pay off other Installment loan</td>\n",
       "      <td>945xx</td>\n",
       "      <td>CA</td>\n",
       "      <td>18.55</td>\n",
       "      <td>0.0</td>\n",
       "      <td>Nov-1994</td>\n",
       "      <td>1.0</td>\n",
       "      <td>NaN</td>\n",
       "      <td>NaN</td>\n",
       "      <td>15.0</td>\n",
       "      <td>0.0</td>\n",
       "      <td>29581.0</td>\n",
       "      <td>54.6%</td>\n",
       "      <td>31.0</td>\n",
       "      <td>w</td>\n",
       "      <td>0.0</td>\n",
       "      <td>0.0</td>\n",
       "      <td>29150.980000</td>\n",
       "      <td>...</td>\n",
       "      <td>6.0</td>\n",
       "      <td>53306.0</td>\n",
       "      <td>13901.0</td>\n",
       "      <td>67.1</td>\n",
       "      <td>0.0</td>\n",
       "      <td>0.0</td>\n",
       "      <td>125.0</td>\n",
       "      <td>229.0</td>\n",
       "      <td>5.0</td>\n",
       "      <td>2.0</td>\n",
       "      <td>5.0</td>\n",
       "      <td>5.0</td>\n",
       "      <td>NaN</td>\n",
       "      <td>3.0</td>\n",
       "      <td>NaN</td>\n",
       "      <td>0.0</td>\n",
       "      <td>4.0</td>\n",
       "      <td>5.0</td>\n",
       "      <td>6.0</td>\n",
       "      <td>8.0</td>\n",
       "      <td>11.0</td>\n",
       "      <td>9.0</td>\n",
       "      <td>15.0</td>\n",
       "      <td>5.0</td>\n",
       "      <td>15.0</td>\n",
       "      <td>0.0</td>\n",
       "      <td>0.0</td>\n",
       "      <td>0.0</td>\n",
       "      <td>5.0</td>\n",
       "      <td>100.0</td>\n",
       "      <td>16.7</td>\n",
       "      <td>0.0</td>\n",
       "      <td>0.0</td>\n",
       "      <td>850886.0</td>\n",
       "      <td>199739.0</td>\n",
       "      <td>42200.0</td>\n",
       "      <td>196686.0</td>\n",
       "    </tr>\n",
       "    <tr>\n",
       "      <th>2</th>\n",
       "      <td>12000.0</td>\n",
       "      <td>12000.0</td>\n",
       "      <td>12000.0</td>\n",
       "      <td>36 months</td>\n",
       "      <td>13.53%</td>\n",
       "      <td>407.40</td>\n",
       "      <td>B</td>\n",
       "      <td>B5</td>\n",
       "      <td>On road manager</td>\n",
       "      <td>10+ years</td>\n",
       "      <td>RENT</td>\n",
       "      <td>40000.0</td>\n",
       "      <td>Source Verified</td>\n",
       "      <td>Dec-2013</td>\n",
       "      <td>0</td>\n",
       "      <td>n</td>\n",
       "      <td>NaN</td>\n",
       "      <td>NaN</td>\n",
       "      <td>debt_consolidation</td>\n",
       "      <td>Debt consolidation</td>\n",
       "      <td>871xx</td>\n",
       "      <td>NM</td>\n",
       "      <td>16.94</td>\n",
       "      <td>0.0</td>\n",
       "      <td>Oct-1998</td>\n",
       "      <td>0.0</td>\n",
       "      <td>53.0</td>\n",
       "      <td>33.0</td>\n",
       "      <td>7.0</td>\n",
       "      <td>2.0</td>\n",
       "      <td>5572.0</td>\n",
       "      <td>68.8%</td>\n",
       "      <td>32.0</td>\n",
       "      <td>w</td>\n",
       "      <td>0.0</td>\n",
       "      <td>0.0</td>\n",
       "      <td>13359.776858</td>\n",
       "      <td>...</td>\n",
       "      <td>4.0</td>\n",
       "      <td>2268.0</td>\n",
       "      <td>1428.0</td>\n",
       "      <td>79.6</td>\n",
       "      <td>0.0</td>\n",
       "      <td>0.0</td>\n",
       "      <td>124.0</td>\n",
       "      <td>182.0</td>\n",
       "      <td>1.0</td>\n",
       "      <td>1.0</td>\n",
       "      <td>0.0</td>\n",
       "      <td>11.0</td>\n",
       "      <td>53.0</td>\n",
       "      <td>17.0</td>\n",
       "      <td>53.0</td>\n",
       "      <td>6.0</td>\n",
       "      <td>2.0</td>\n",
       "      <td>2.0</td>\n",
       "      <td>3.0</td>\n",
       "      <td>14.0</td>\n",
       "      <td>8.0</td>\n",
       "      <td>6.0</td>\n",
       "      <td>24.0</td>\n",
       "      <td>2.0</td>\n",
       "      <td>7.0</td>\n",
       "      <td>0.0</td>\n",
       "      <td>0.0</td>\n",
       "      <td>0.0</td>\n",
       "      <td>2.0</td>\n",
       "      <td>81.2</td>\n",
       "      <td>33.3</td>\n",
       "      <td>0.0</td>\n",
       "      <td>0.0</td>\n",
       "      <td>18130.0</td>\n",
       "      <td>13605.0</td>\n",
       "      <td>7000.0</td>\n",
       "      <td>10030.0</td>\n",
       "    </tr>\n",
       "  </tbody>\n",
       "</table>\n",
       "<p>3 rows × 82 columns</p>\n",
       "</div>"
      ],
      "text/plain": [
       "   loan_amnt  funded_amnt  funded_amnt_inv        term int_rate  installment  \\\n",
       "0    11500.0      11500.0          11500.0   60 months   22.90%       323.54   \n",
       "1    28000.0      28000.0          28000.0   36 months    7.62%       872.52   \n",
       "2    12000.0      12000.0          12000.0   36 months   13.53%       407.40   \n",
       "\n",
       "  grade sub_grade           emp_title emp_length home_ownership  annual_inc  \\\n",
       "0     E        E4           Secretary    4 years           RENT     32760.0   \n",
       "1     A        A3  Area Sales Manager    5 years       MORTGAGE    325000.0   \n",
       "2     B        B5     On road manager  10+ years           RENT     40000.0   \n",
       "\n",
       "  verification_status   issue_d  loan_status pymnt_plan  url  \\\n",
       "0            Verified  Dec-2013            0          n  NaN   \n",
       "1     Source Verified  Dec-2013            0          n  NaN   \n",
       "2     Source Verified  Dec-2013            0          n  NaN   \n",
       "\n",
       "                                                desc             purpose  \\\n",
       "0    Borrower added on 12/31/13 > This loan is fo...  debt_consolidation   \n",
       "1                                                NaN  debt_consolidation   \n",
       "2                                                NaN  debt_consolidation   \n",
       "\n",
       "                            title zip_code addr_state    dti  delinq_2yrs  \\\n",
       "0                     Debt Killer    937xx         CA  27.06          0.0   \n",
       "1  Pay off other Installment loan    945xx         CA  18.55          0.0   \n",
       "2              Debt consolidation    871xx         NM  16.94          0.0   \n",
       "\n",
       "  earliest_cr_line  inq_last_6mths  mths_since_last_delinq  \\\n",
       "0         Mar-1999             0.0                     NaN   \n",
       "1         Nov-1994             1.0                     NaN   \n",
       "2         Oct-1998             0.0                    53.0   \n",
       "\n",
       "   mths_since_last_record  open_acc  pub_rec  revol_bal revol_util  total_acc  \\\n",
       "0                     NaN      12.0      0.0     9996.0      70.9%       17.0   \n",
       "1                     NaN      15.0      0.0    29581.0      54.6%       31.0   \n",
       "2                    33.0       7.0      2.0     5572.0      68.8%       32.0   \n",
       "\n",
       "  initial_list_status  out_prncp  out_prncp_inv   total_pymnt  ...  \\\n",
       "0                   f        0.0            0.0  18786.250257  ...   \n",
       "1                   w        0.0            0.0  29150.980000  ...   \n",
       "2                   w        0.0            0.0  13359.776858  ...   \n",
       "\n",
       "   acc_open_past_24mths  avg_cur_bal  bc_open_to_buy  bc_util  \\\n",
       "0                   9.0       2060.0          2689.0     70.1   \n",
       "1                   6.0      53306.0         13901.0     67.1   \n",
       "2                   4.0       2268.0          1428.0     79.6   \n",
       "\n",
       "   chargeoff_within_12_mths  delinq_amnt mo_sin_old_il_acct  \\\n",
       "0                       0.0          0.0               34.0   \n",
       "1                       0.0          0.0              125.0   \n",
       "2                       0.0          0.0              124.0   \n",
       "\n",
       "   mo_sin_old_rev_tl_op  mo_sin_rcnt_rev_tl_op  mo_sin_rcnt_tl  mort_acc  \\\n",
       "0                 177.0                   14.0             1.0       0.0   \n",
       "1                 229.0                    5.0             2.0       5.0   \n",
       "2                 182.0                    1.0             1.0       0.0   \n",
       "\n",
       "   mths_since_recent_bc  mths_since_recent_bc_dlq  mths_since_recent_inq  \\\n",
       "0                  20.0                       NaN                   14.0   \n",
       "1                   5.0                       NaN                    3.0   \n",
       "2                  11.0                      53.0                   17.0   \n",
       "\n",
       "   mths_since_recent_revol_delinq  num_accts_ever_120_pd  num_actv_bc_tl  \\\n",
       "0                             NaN                    0.0             5.0   \n",
       "1                             NaN                    0.0             4.0   \n",
       "2                            53.0                    6.0             2.0   \n",
       "\n",
       "   num_actv_rev_tl  num_bc_sats  num_bc_tl  num_il_tl  num_op_rev_tl  \\\n",
       "0              8.0          6.0        7.0        4.0           10.0   \n",
       "1              5.0          6.0        8.0       11.0            9.0   \n",
       "2              2.0          3.0       14.0        8.0            6.0   \n",
       "\n",
       "   num_rev_accts  num_rev_tl_bal_gt_0  num_sats  num_tl_120dpd_2m  \\\n",
       "0           13.0                  8.0      12.0               0.0   \n",
       "1           15.0                  5.0      15.0               0.0   \n",
       "2           24.0                  2.0       7.0               0.0   \n",
       "\n",
       "   num_tl_30dpd  num_tl_90g_dpd_24m  num_tl_op_past_12m  pct_tl_nvr_dlq  \\\n",
       "0           0.0                 0.0                 2.0           100.0   \n",
       "1           0.0                 0.0                 5.0           100.0   \n",
       "2           0.0                 0.0                 2.0            81.2   \n",
       "\n",
       "   percent_bc_gt_75  pub_rec_bankruptcies  tax_liens  tot_hi_cred_lim  \\\n",
       "0              50.0                   0.0        0.0          30891.0   \n",
       "1              16.7                   0.0        0.0         850886.0   \n",
       "2              33.3                   0.0        0.0          18130.0   \n",
       "\n",
       "   total_bal_ex_mort  total_bc_limit  total_il_high_credit_limit  \n",
       "0            24724.0          9000.0                     16791.0  \n",
       "1           199739.0         42200.0                    196686.0  \n",
       "2            13605.0          7000.0                     10030.0  \n",
       "\n",
       "[3 rows x 82 columns]"
      ]
     },
     "execution_count": 4,
     "metadata": {},
     "output_type": "execute_result"
    }
   ],
   "source": [
    "Dataset_withBoolTarget['loan_status'].value_counts()\n",
    "print(\"Current shape of dataset :\",Dataset_withBoolTarget.shape)\n",
    "Dataset_withBoolTarget.head(3)"
   ]
  },
  {
   "cell_type": "code",
   "execution_count": 5,
   "metadata": {
    "colab": {
     "base_uri": "https://localhost:8080/"
    },
    "id": "Elz9PCWvT2z3",
    "outputId": "78612ac6-dd27-43a0-fb4a-11dff9643e6b"
   },
   "outputs": [
    {
     "name": "stdout",
     "output_type": "stream",
     "text": [
      "Current shape of dataset : (398460, 76)\n"
     ]
    }
   ],
   "source": [
    "dataset=Dataset_withBoolTarget.dropna(thresh = 340000,axis=1) #340000 es el número mínimo de valores no NA\n",
    "print(\"Current shape of dataset :\",dataset.shape)"
   ]
  },
  {
   "cell_type": "code",
   "execution_count": 6,
   "metadata": {
    "colab": {
     "base_uri": "https://localhost:8080/"
    },
    "id": "1ZSoZwSKT48V",
    "outputId": "0ae781c0-ab59-434b-bfcc-c8b2c0e50fac"
   },
   "outputs": [
    {
     "name": "stdout",
     "output_type": "stream",
     "text": [
      "Current shape of dataset : (398460, 54)\n"
     ]
    }
   ],
   "source": [
    "del_col_names = [\"delinq_2yrs\",  \"last_pymnt_d\", \"chargeoff_within_12_mths\",\"delinq_amnt\",\"emp_title\", \"term\", \"emp_title\", \"pymnt_plan\",\"purpose\",\"title\", \"zip_code\", \"verification_status\", \"dti\",\"earliest_cr_line\", \"initial_list_status\", \"out_prncp\",\n",
    "\"pymnt_plan\", \"num_tl_90g_dpd_24m\", \"num_tl_30dpd\", \"num_tl_120dpd_2m\", \"num_accts_ever_120_pd\", \"delinq_amnt\", \n",
    "\"chargeoff_within_12_mths\", \"total_rec_late_fee\", \"out_prncp_inv\", \"issue_d\"] #eliminando algunas columnas más\n",
    "dataset = dataset.drop(labels = del_col_names, axis = 1) \n",
    "print(\"Current shape of dataset :\",dataset.shape)"
   ]
  },
  {
   "cell_type": "code",
   "execution_count": 7,
   "metadata": {
    "colab": {
     "base_uri": "https://localhost:8080/"
    },
    "id": "1Sah9xFBT6qR",
    "outputId": "c542c5ce-e468-496f-b01d-98a100dfbe03"
   },
   "outputs": [
    {
     "name": "stdout",
     "output_type": "stream",
     "text": [
      "Current shape of dataset : (398460, 18)\n"
     ]
    }
   ],
   "source": [
    "features = ['funded_amnt','emp_length','annual_inc','home_ownership','grade',\n",
    "            \"last_pymnt_amnt\", \"mort_acc\", \"pub_rec\", \"int_rate\", \"open_acc\",\"num_actv_rev_tl\",\n",
    "            \"mo_sin_rcnt_rev_tl_op\",\"mo_sin_old_rev_tl_op\",\"bc_util\",\"bc_open_to_buy\",\n",
    "            \"avg_cur_bal\",\"acc_open_past_24mths\",'loan_status'] #'sub_grade' #seleccionando características finales #'addr_state''tax_liens',\n",
    "Final_data = dataset[features] #19 características con var objetivo\n",
    "Final_data[\"int_rate\"] = Final_data[\"int_rate\"].apply(lambda x:float(x[:-1]) ) #quitando % sign, conv to float  - int_rate column\n",
    "Final_data= Final_data.reset_index(drop=True)\n",
    "print(\"Current shape of dataset :\",Final_data.shape)"
   ]
  },
  {
   "cell_type": "markdown",
   "metadata": {
    "id": "E_VaEHr6lvxB"
   },
   "source": [
    "#Transformación de datos"
   ]
  },
  {
   "cell_type": "markdown",
   "metadata": {
    "id": "5mDL28xolzFG"
   },
   "source": [
    "Calificación: calificación otorgada por el prestatario basándose en su historial anterior, codificada en valores numéricos."
   ]
  },
  {
   "cell_type": "markdown",
   "metadata": {
    "id": "qiG5nFIXl1zC"
   },
   "source": [
    "home_ownership : esta es una característica del conjunto de datos que tuvo que codificarse en valores numéricos."
   ]
  },
  {
   "cell_type": "markdown",
   "metadata": {
    "id": "-yKVrY8_mFMa"
   },
   "source": [
    "Emp_Length: esta función no se formateó correctamente. Tiene algunos valores que estaban en el formato como \"10 + años\", \"5 años\" ... etc. los cambiamos a valores numéricos en la celda siguiente"
   ]
  },
  {
   "cell_type": "code",
   "execution_count": 8,
   "metadata": {
    "colab": {
     "base_uri": "https://localhost:8080/",
     "height": 244
    },
    "id": "JaUbzjATT88A",
    "outputId": "2aba36f1-5b60-47d0-8032-aa10885d86ee"
   },
   "outputs": [
    {
     "name": "stdout",
     "output_type": "stream",
     "text": [
      "Current shape of dataset : (398460, 18)\n"
     ]
    },
    {
     "data": {
      "text/html": [
       "<div>\n",
       "<style scoped>\n",
       "    .dataframe tbody tr th:only-of-type {\n",
       "        vertical-align: middle;\n",
       "    }\n",
       "\n",
       "    .dataframe tbody tr th {\n",
       "        vertical-align: top;\n",
       "    }\n",
       "\n",
       "    .dataframe thead th {\n",
       "        text-align: right;\n",
       "    }\n",
       "</style>\n",
       "<table border=\"1\" class=\"dataframe\">\n",
       "  <thead>\n",
       "    <tr style=\"text-align: right;\">\n",
       "      <th></th>\n",
       "      <th>funded_amnt</th>\n",
       "      <th>emp_length</th>\n",
       "      <th>annual_inc</th>\n",
       "      <th>home_ownership</th>\n",
       "      <th>grade</th>\n",
       "      <th>last_pymnt_amnt</th>\n",
       "      <th>mort_acc</th>\n",
       "      <th>pub_rec</th>\n",
       "      <th>int_rate</th>\n",
       "      <th>open_acc</th>\n",
       "      <th>num_actv_rev_tl</th>\n",
       "      <th>mo_sin_rcnt_rev_tl_op</th>\n",
       "      <th>mo_sin_old_rev_tl_op</th>\n",
       "      <th>bc_util</th>\n",
       "      <th>bc_open_to_buy</th>\n",
       "      <th>avg_cur_bal</th>\n",
       "      <th>acc_open_past_24mths</th>\n",
       "      <th>loan_status</th>\n",
       "    </tr>\n",
       "  </thead>\n",
       "  <tbody>\n",
       "    <tr>\n",
       "      <th>0</th>\n",
       "      <td>11500.0</td>\n",
       "      <td>4.0</td>\n",
       "      <td>32760.0</td>\n",
       "      <td>5</td>\n",
       "      <td>3</td>\n",
       "      <td>4874.03</td>\n",
       "      <td>0.0</td>\n",
       "      <td>0.0</td>\n",
       "      <td>22.90</td>\n",
       "      <td>12.0</td>\n",
       "      <td>8.0</td>\n",
       "      <td>14.0</td>\n",
       "      <td>177.0</td>\n",
       "      <td>70.1</td>\n",
       "      <td>2689.0</td>\n",
       "      <td>2060.0</td>\n",
       "      <td>9.0</td>\n",
       "      <td>0</td>\n",
       "    </tr>\n",
       "    <tr>\n",
       "      <th>1</th>\n",
       "      <td>28000.0</td>\n",
       "      <td>5.0</td>\n",
       "      <td>325000.0</td>\n",
       "      <td>6</td>\n",
       "      <td>7</td>\n",
       "      <td>23915.86</td>\n",
       "      <td>5.0</td>\n",
       "      <td>0.0</td>\n",
       "      <td>7.62</td>\n",
       "      <td>15.0</td>\n",
       "      <td>5.0</td>\n",
       "      <td>5.0</td>\n",
       "      <td>229.0</td>\n",
       "      <td>67.1</td>\n",
       "      <td>13901.0</td>\n",
       "      <td>53306.0</td>\n",
       "      <td>6.0</td>\n",
       "      <td>0</td>\n",
       "    </tr>\n",
       "    <tr>\n",
       "      <th>2</th>\n",
       "      <td>12000.0</td>\n",
       "      <td>10.0</td>\n",
       "      <td>40000.0</td>\n",
       "      <td>5</td>\n",
       "      <td>6</td>\n",
       "      <td>119.17</td>\n",
       "      <td>0.0</td>\n",
       "      <td>2.0</td>\n",
       "      <td>13.53</td>\n",
       "      <td>7.0</td>\n",
       "      <td>2.0</td>\n",
       "      <td>1.0</td>\n",
       "      <td>182.0</td>\n",
       "      <td>79.6</td>\n",
       "      <td>1428.0</td>\n",
       "      <td>2268.0</td>\n",
       "      <td>4.0</td>\n",
       "      <td>0</td>\n",
       "    </tr>\n",
       "    <tr>\n",
       "      <th>3</th>\n",
       "      <td>15000.0</td>\n",
       "      <td>2.0</td>\n",
       "      <td>63000.0</td>\n",
       "      <td>6</td>\n",
       "      <td>7</td>\n",
       "      <td>476.23</td>\n",
       "      <td>4.0</td>\n",
       "      <td>0.0</td>\n",
       "      <td>8.90</td>\n",
       "      <td>8.0</td>\n",
       "      <td>4.0</td>\n",
       "      <td>24.0</td>\n",
       "      <td>189.0</td>\n",
       "      <td>79.1</td>\n",
       "      <td>2969.0</td>\n",
       "      <td>38927.0</td>\n",
       "      <td>3.0</td>\n",
       "      <td>0</td>\n",
       "    </tr>\n",
       "    <tr>\n",
       "      <th>4</th>\n",
       "      <td>24000.0</td>\n",
       "      <td>10.0</td>\n",
       "      <td>100000.0</td>\n",
       "      <td>6</td>\n",
       "      <td>6</td>\n",
       "      <td>10726.61</td>\n",
       "      <td>3.0</td>\n",
       "      <td>0.0</td>\n",
       "      <td>13.53</td>\n",
       "      <td>14.0</td>\n",
       "      <td>5.0</td>\n",
       "      <td>18.0</td>\n",
       "      <td>299.0</td>\n",
       "      <td>77.6</td>\n",
       "      <td>4822.0</td>\n",
       "      <td>15372.0</td>\n",
       "      <td>7.0</td>\n",
       "      <td>0</td>\n",
       "    </tr>\n",
       "  </tbody>\n",
       "</table>\n",
       "</div>"
      ],
      "text/plain": [
       "   funded_amnt  emp_length  annual_inc  home_ownership  grade  \\\n",
       "0      11500.0         4.0     32760.0               5      3   \n",
       "1      28000.0         5.0    325000.0               6      7   \n",
       "2      12000.0        10.0     40000.0               5      6   \n",
       "3      15000.0         2.0     63000.0               6      7   \n",
       "4      24000.0        10.0    100000.0               6      6   \n",
       "\n",
       "   last_pymnt_amnt  mort_acc  pub_rec  int_rate  open_acc  num_actv_rev_tl  \\\n",
       "0          4874.03       0.0      0.0     22.90      12.0              8.0   \n",
       "1         23915.86       5.0      0.0      7.62      15.0              5.0   \n",
       "2           119.17       0.0      2.0     13.53       7.0              2.0   \n",
       "3           476.23       4.0      0.0      8.90       8.0              4.0   \n",
       "4         10726.61       3.0      0.0     13.53      14.0              5.0   \n",
       "\n",
       "   mo_sin_rcnt_rev_tl_op  mo_sin_old_rev_tl_op  bc_util  bc_open_to_buy  \\\n",
       "0                   14.0                 177.0     70.1          2689.0   \n",
       "1                    5.0                 229.0     67.1         13901.0   \n",
       "2                    1.0                 182.0     79.6          1428.0   \n",
       "3                   24.0                 189.0     79.1          2969.0   \n",
       "4                   18.0                 299.0     77.6          4822.0   \n",
       "\n",
       "   avg_cur_bal  acc_open_past_24mths  loan_status  \n",
       "0       2060.0                   9.0            0  \n",
       "1      53306.0                   6.0            0  \n",
       "2       2268.0                   4.0            0  \n",
       "3      38927.0                   3.0            0  \n",
       "4      15372.0                   7.0            0  "
      ]
     },
     "execution_count": 8,
     "metadata": {},
     "output_type": "execute_result"
    }
   ],
   "source": [
    "#Codificación de datos\n",
    "Final_data['grade'] = Final_data['grade'].map({'A':7,'B':6,'C':5,'D':4,'E':3,'F':2,'G':1})\n",
    "Final_data[\"home_ownership\"] = Final_data[\"home_ownership\"].map({\"MORTGAGE\":6,\"RENT\":5,\"OWN\":4,\"OTHER\":3,\"NONE\":2,\"ANY\":1})\n",
    "Final_data[\"emp_length\"] = Final_data[\"emp_length\"].replace({'years':'','year':'',' ':'','<':'','\\+':'','n/a':'0'}, regex = True)\n",
    "Final_data[\"emp_length\"] = Final_data[\"emp_length\"].apply(lambda x:pd.to_numeric(x, downcast='integer'))\n",
    "print(\"Current shape of dataset :\",Final_data.shape)\n",
    "Final_data.head()#Codificación de datos\n"
   ]
  },
  {
   "cell_type": "code",
   "execution_count": 9,
   "metadata": {
    "colab": {
     "base_uri": "https://localhost:8080/"
    },
    "id": "pzVVeRo1T-1V",
    "outputId": "7ab0bbf9-666a-4e27-cc45-06d5c781491d"
   },
   "outputs": [
    {
     "data": {
      "text/plain": [
       "4.0"
      ]
     },
     "execution_count": 9,
     "metadata": {},
     "output_type": "execute_result"
    }
   ],
   "source": [
    "x=Final_data[\"emp_length\"]\n",
    "\n",
    "x[60]"
   ]
  },
  {
   "cell_type": "code",
   "execution_count": 10,
   "metadata": {
    "colab": {
     "base_uri": "https://localhost:8080/"
    },
    "id": "NIiOyIgJVPtx",
    "outputId": "a051d895-8f5f-46bf-f987-ddc2f58d7c3b"
   },
   "outputs": [
    {
     "data": {
      "text/plain": [
       "True"
      ]
     },
     "execution_count": 10,
     "metadata": {},
     "output_type": "execute_result"
    }
   ],
   "source": [
    "Final_data.shape\n",
    "Final_data.isnull().values.any()"
   ]
  },
  {
   "cell_type": "markdown",
   "metadata": {
    "id": "ZWy23_B7nO3i"
   },
   "source": [
    "#Relleno de valores perdidos y escala de funciones"
   ]
  },
  {
   "cell_type": "markdown",
   "metadata": {
    "id": "KHwT2JyLnRy3"
   },
   "source": [
    "Tenemos algunas características importantes a las que les faltan algunos valores. Completamos los valores que faltan con la media de la columna."
   ]
  },
  {
   "cell_type": "markdown",
   "metadata": {
    "id": "q8eRAM_pnU1C"
   },
   "source": [
    "Escalamos las características de todas las características aquí usando un escalador estándar."
   ]
  },
  {
   "cell_type": "markdown",
   "metadata": {
    "id": "eRknpPjGnXVd"
   },
   "source": [
    "Tomamos muestras de nuestro conjunto de datos aquí después de inferir de la curva de aprendizaje trazada."
   ]
  },
  {
   "cell_type": "code",
   "execution_count": 11,
   "metadata": {
    "colab": {
     "base_uri": "https://localhost:8080/"
    },
    "id": "XSF-V1M8VQ1w",
    "outputId": "1d5ee31f-a6d8-4904-bcd2-b7a916582d3d"
   },
   "outputs": [
    {
     "name": "stdout",
     "output_type": "stream",
     "text": [
      "Current shape of dataset : (398460, 18)\n"
     ]
    }
   ],
   "source": [
    "Final_data.fillna(Final_data.mean(),inplace = True)\n",
    "HTML(Final_data.tail().to_html())\n",
    "print(\"Current shape of dataset :\",Final_data.shape)"
   ]
  },
  {
   "cell_type": "code",
   "execution_count": 12,
   "metadata": {
    "colab": {
     "base_uri": "https://localhost:8080/"
    },
    "id": "YXyVVLgVVR48",
    "outputId": "7b89e75b-7fd8-4508-e9b3-a0bd872f9077"
   },
   "outputs": [
    {
     "data": {
      "text/plain": [
       "False"
      ]
     },
     "execution_count": 12,
     "metadata": {},
     "output_type": "execute_result"
    }
   ],
   "source": [
    "Final_data.isnull().values.any()"
   ]
  },
  {
   "cell_type": "code",
   "execution_count": 13,
   "metadata": {
    "colab": {
     "base_uri": "https://localhost:8080/"
    },
    "id": "_wOBKKfqVTKu",
    "outputId": "60dd4586-681c-4476-ed5b-04b82ff0319c"
   },
   "outputs": [
    {
     "data": {
      "text/plain": [
       "0    329108\n",
       "1     69352\n",
       "Name: loan_status, dtype: int64"
      ]
     },
     "execution_count": 13,
     "metadata": {},
     "output_type": "execute_result"
    }
   ],
   "source": [
    "scl = preprocessing.StandardScaler() #instancia de preprocesamiento\n",
    "fields = Final_data.columns.values[:-1]\n",
    "data_clean = pd.DataFrame(scl.fit_transform(Final_data[fields]), columns = fields)\n",
    "data_clean['loan_status'] = Final_data['loan_status']\n",
    "data_clean['loan_status'].value_counts()"
   ]
  },
  {
   "cell_type": "code",
   "execution_count": 14,
   "metadata": {
    "colab": {
     "base_uri": "https://localhost:8080/",
     "height": 244
    },
    "id": "krJ22L6ZVU6-",
    "outputId": "3c7f7fee-94ac-445c-b6c5-0a6a34c8eb9d"
   },
   "outputs": [
    {
     "name": "stdout",
     "output_type": "stream",
     "text": [
      "Current shape of dataset : (11000, 18)\n"
     ]
    },
    {
     "data": {
      "text/html": [
       "<div>\n",
       "<style scoped>\n",
       "    .dataframe tbody tr th:only-of-type {\n",
       "        vertical-align: middle;\n",
       "    }\n",
       "\n",
       "    .dataframe tbody tr th {\n",
       "        vertical-align: top;\n",
       "    }\n",
       "\n",
       "    .dataframe thead th {\n",
       "        text-align: right;\n",
       "    }\n",
       "</style>\n",
       "<table border=\"1\" class=\"dataframe\">\n",
       "  <thead>\n",
       "    <tr style=\"text-align: right;\">\n",
       "      <th></th>\n",
       "      <th>funded_amnt</th>\n",
       "      <th>emp_length</th>\n",
       "      <th>annual_inc</th>\n",
       "      <th>home_ownership</th>\n",
       "      <th>grade</th>\n",
       "      <th>last_pymnt_amnt</th>\n",
       "      <th>mort_acc</th>\n",
       "      <th>pub_rec</th>\n",
       "      <th>int_rate</th>\n",
       "      <th>open_acc</th>\n",
       "      <th>num_actv_rev_tl</th>\n",
       "      <th>mo_sin_rcnt_rev_tl_op</th>\n",
       "      <th>mo_sin_old_rev_tl_op</th>\n",
       "      <th>bc_util</th>\n",
       "      <th>bc_open_to_buy</th>\n",
       "      <th>avg_cur_bal</th>\n",
       "      <th>acc_open_past_24mths</th>\n",
       "      <th>loan_status</th>\n",
       "    </tr>\n",
       "  </thead>\n",
       "  <tbody>\n",
       "    <tr>\n",
       "      <th>0</th>\n",
       "      <td>-1.129288</td>\n",
       "      <td>0.837104</td>\n",
       "      <td>-0.525623</td>\n",
       "      <td>0.895380</td>\n",
       "      <td>0.602627</td>\n",
       "      <td>-0.710409</td>\n",
       "      <td>0.084715</td>\n",
       "      <td>-0.323586</td>\n",
       "      <td>-0.845949</td>\n",
       "      <td>-0.266314</td>\n",
       "      <td>-0.586615</td>\n",
       "      <td>1.668417</td>\n",
       "      <td>-1.055438e+00</td>\n",
       "      <td>1.451505</td>\n",
       "      <td>-0.637970</td>\n",
       "      <td>6.703937e-01</td>\n",
       "      <td>-1.524476</td>\n",
       "      <td>1</td>\n",
       "    </tr>\n",
       "    <tr>\n",
       "      <th>1</th>\n",
       "      <td>-1.129288</td>\n",
       "      <td>-1.510863</td>\n",
       "      <td>-0.618497</td>\n",
       "      <td>-0.636019</td>\n",
       "      <td>-0.166329</td>\n",
       "      <td>-0.708280</td>\n",
       "      <td>-0.843711</td>\n",
       "      <td>-0.323586</td>\n",
       "      <td>0.400299</td>\n",
       "      <td>-0.869131</td>\n",
       "      <td>0.097569</td>\n",
       "      <td>-0.607138</td>\n",
       "      <td>-9.185550e-01</td>\n",
       "      <td>1.075078</td>\n",
       "      <td>-0.633400</td>\n",
       "      <td>-6.462550e-01</td>\n",
       "      <td>-0.440813</td>\n",
       "      <td>1</td>\n",
       "    </tr>\n",
       "    <tr>\n",
       "      <th>2</th>\n",
       "      <td>-0.844080</td>\n",
       "      <td>-0.923871</td>\n",
       "      <td>-0.748522</td>\n",
       "      <td>-0.636019</td>\n",
       "      <td>0.602627</td>\n",
       "      <td>-0.697839</td>\n",
       "      <td>-0.843711</td>\n",
       "      <td>-0.323586</td>\n",
       "      <td>-0.396295</td>\n",
       "      <td>0.537442</td>\n",
       "      <td>0.000000</td>\n",
       "      <td>0.000000</td>\n",
       "      <td>3.242049e-16</td>\n",
       "      <td>-1.241106</td>\n",
       "      <td>1.337840</td>\n",
       "      <td>-2.333369e-16</td>\n",
       "      <td>2.087733</td>\n",
       "      <td>0</td>\n",
       "    </tr>\n",
       "    <tr>\n",
       "      <th>3</th>\n",
       "      <td>-1.226381</td>\n",
       "      <td>1.130600</td>\n",
       "      <td>-0.618497</td>\n",
       "      <td>-2.167418</td>\n",
       "      <td>-0.166329</td>\n",
       "      <td>-0.712584</td>\n",
       "      <td>-0.843711</td>\n",
       "      <td>-0.323586</td>\n",
       "      <td>0.555510</td>\n",
       "      <td>-0.065375</td>\n",
       "      <td>0.000000</td>\n",
       "      <td>0.000000</td>\n",
       "      <td>3.242049e-16</td>\n",
       "      <td>-0.618848</td>\n",
       "      <td>-0.135355</td>\n",
       "      <td>-2.333369e-16</td>\n",
       "      <td>-0.440813</td>\n",
       "      <td>1</td>\n",
       "    </tr>\n",
       "    <tr>\n",
       "      <th>4</th>\n",
       "      <td>-0.710578</td>\n",
       "      <td>-1.510863</td>\n",
       "      <td>-0.897122</td>\n",
       "      <td>-0.636019</td>\n",
       "      <td>-1.704242</td>\n",
       "      <td>-0.685578</td>\n",
       "      <td>-0.843711</td>\n",
       "      <td>-0.323586</td>\n",
       "      <td>1.447969</td>\n",
       "      <td>-1.271009</td>\n",
       "      <td>-0.928707</td>\n",
       "      <td>-0.477106</td>\n",
       "      <td>-1.602972e+00</td>\n",
       "      <td>-0.753287</td>\n",
       "      <td>-0.369147</td>\n",
       "      <td>-8.184686e-01</td>\n",
       "      <td>-0.079592</td>\n",
       "      <td>1</td>\n",
       "    </tr>\n",
       "  </tbody>\n",
       "</table>\n",
       "</div>"
      ],
      "text/plain": [
       "   funded_amnt  emp_length  annual_inc  home_ownership     grade  \\\n",
       "0    -1.129288    0.837104   -0.525623        0.895380  0.602627   \n",
       "1    -1.129288   -1.510863   -0.618497       -0.636019 -0.166329   \n",
       "2    -0.844080   -0.923871   -0.748522       -0.636019  0.602627   \n",
       "3    -1.226381    1.130600   -0.618497       -2.167418 -0.166329   \n",
       "4    -0.710578   -1.510863   -0.897122       -0.636019 -1.704242   \n",
       "\n",
       "   last_pymnt_amnt  mort_acc   pub_rec  int_rate  open_acc  num_actv_rev_tl  \\\n",
       "0        -0.710409  0.084715 -0.323586 -0.845949 -0.266314        -0.586615   \n",
       "1        -0.708280 -0.843711 -0.323586  0.400299 -0.869131         0.097569   \n",
       "2        -0.697839 -0.843711 -0.323586 -0.396295  0.537442         0.000000   \n",
       "3        -0.712584 -0.843711 -0.323586  0.555510 -0.065375         0.000000   \n",
       "4        -0.685578 -0.843711 -0.323586  1.447969 -1.271009        -0.928707   \n",
       "\n",
       "   mo_sin_rcnt_rev_tl_op  mo_sin_old_rev_tl_op   bc_util  bc_open_to_buy  \\\n",
       "0               1.668417         -1.055438e+00  1.451505       -0.637970   \n",
       "1              -0.607138         -9.185550e-01  1.075078       -0.633400   \n",
       "2               0.000000          3.242049e-16 -1.241106        1.337840   \n",
       "3               0.000000          3.242049e-16 -0.618848       -0.135355   \n",
       "4              -0.477106         -1.602972e+00 -0.753287       -0.369147   \n",
       "\n",
       "    avg_cur_bal  acc_open_past_24mths  loan_status  \n",
       "0  6.703937e-01             -1.524476            1  \n",
       "1 -6.462550e-01             -0.440813            1  \n",
       "2 -2.333369e-16              2.087733            0  \n",
       "3 -2.333369e-16             -0.440813            1  \n",
       "4 -8.184686e-01             -0.079592            1  "
      ]
     },
     "execution_count": 14,
     "metadata": {},
     "output_type": "execute_result"
    }
   ],
   "source": [
    "loanstatus_0 = data_clean[data_clean[\"loan_status\"]==0]\n",
    "loanstatus_1 = data_clean[data_clean[\"loan_status\"]==1]\n",
    "subset_of_loanstatus_0 = loanstatus_0.sample(n=5500)\n",
    "subset_of_loanstatus_1 = loanstatus_1.sample(n=5500)\n",
    "data_clean = pd.concat([subset_of_loanstatus_1, subset_of_loanstatus_0])\n",
    "data_clean = data_clean.sample(frac=1).reset_index(drop=True)\n",
    "print(\"Current shape of dataset :\",data_clean.shape)\n",
    "data_clean.head()"
   ]
  },
  {
   "cell_type": "markdown",
   "metadata": {
    "id": "2QrxaZ6Znjee"
   },
   "source": [
    "A continuación se muestran los valores de correlación entre las características finalmente seleccionadas."
   ]
  },
  {
   "cell_type": "code",
   "execution_count": 15,
   "metadata": {
    "colab": {
     "base_uri": "https://localhost:8080/",
     "height": 634
    },
    "id": "BBB6H_BBVXH6",
    "outputId": "ab9221d1-089b-4c9d-afea-06ec25c42f79"
   },
   "outputs": [
    {
     "data": {
      "text/html": [
       "<div>\n",
       "<style scoped>\n",
       "    .dataframe tbody tr th:only-of-type {\n",
       "        vertical-align: middle;\n",
       "    }\n",
       "\n",
       "    .dataframe tbody tr th {\n",
       "        vertical-align: top;\n",
       "    }\n",
       "\n",
       "    .dataframe thead th {\n",
       "        text-align: right;\n",
       "    }\n",
       "</style>\n",
       "<table border=\"1\" class=\"dataframe\">\n",
       "  <thead>\n",
       "    <tr style=\"text-align: right;\">\n",
       "      <th></th>\n",
       "      <th>funded_amnt</th>\n",
       "      <th>emp_length</th>\n",
       "      <th>annual_inc</th>\n",
       "      <th>home_ownership</th>\n",
       "      <th>grade</th>\n",
       "      <th>last_pymnt_amnt</th>\n",
       "      <th>mort_acc</th>\n",
       "      <th>pub_rec</th>\n",
       "      <th>int_rate</th>\n",
       "      <th>open_acc</th>\n",
       "      <th>num_actv_rev_tl</th>\n",
       "      <th>mo_sin_rcnt_rev_tl_op</th>\n",
       "      <th>mo_sin_old_rev_tl_op</th>\n",
       "      <th>bc_util</th>\n",
       "      <th>bc_open_to_buy</th>\n",
       "      <th>avg_cur_bal</th>\n",
       "      <th>acc_open_past_24mths</th>\n",
       "      <th>loan_status</th>\n",
       "    </tr>\n",
       "  </thead>\n",
       "  <tbody>\n",
       "    <tr>\n",
       "      <th>funded_amnt</th>\n",
       "      <td>1.000000</td>\n",
       "      <td>0.102330</td>\n",
       "      <td>0.421435</td>\n",
       "      <td>0.163969</td>\n",
       "      <td>-0.187464</td>\n",
       "      <td>0.328282</td>\n",
       "      <td>0.212115</td>\n",
       "      <td>-0.090289</td>\n",
       "      <td>0.181051</td>\n",
       "      <td>0.196664</td>\n",
       "      <td>0.126856</td>\n",
       "      <td>0.056773</td>\n",
       "      <td>0.146592</td>\n",
       "      <td>0.036761</td>\n",
       "      <td>0.195396</td>\n",
       "      <td>0.221732</td>\n",
       "      <td>0.016331</td>\n",
       "      <td>0.085524</td>\n",
       "    </tr>\n",
       "    <tr>\n",
       "      <th>emp_length</th>\n",
       "      <td>0.102330</td>\n",
       "      <td>1.000000</td>\n",
       "      <td>0.075507</td>\n",
       "      <td>0.119332</td>\n",
       "      <td>-0.016906</td>\n",
       "      <td>0.033853</td>\n",
       "      <td>0.182158</td>\n",
       "      <td>0.031123</td>\n",
       "      <td>0.016138</td>\n",
       "      <td>0.031424</td>\n",
       "      <td>0.102521</td>\n",
       "      <td>0.013989</td>\n",
       "      <td>0.166339</td>\n",
       "      <td>0.030824</td>\n",
       "      <td>0.024156</td>\n",
       "      <td>0.093803</td>\n",
       "      <td>0.012585</td>\n",
       "      <td>0.002670</td>\n",
       "    </tr>\n",
       "    <tr>\n",
       "      <th>annual_inc</th>\n",
       "      <td>0.421435</td>\n",
       "      <td>0.075507</td>\n",
       "      <td>1.000000</td>\n",
       "      <td>0.176365</td>\n",
       "      <td>0.043463</td>\n",
       "      <td>0.189854</td>\n",
       "      <td>0.274032</td>\n",
       "      <td>-0.017802</td>\n",
       "      <td>-0.054983</td>\n",
       "      <td>0.158531</td>\n",
       "      <td>0.050465</td>\n",
       "      <td>0.077700</td>\n",
       "      <td>0.159072</td>\n",
       "      <td>-0.016275</td>\n",
       "      <td>0.175693</td>\n",
       "      <td>0.436615</td>\n",
       "      <td>0.046761</td>\n",
       "      <td>-0.081251</td>\n",
       "    </tr>\n",
       "    <tr>\n",
       "      <th>home_ownership</th>\n",
       "      <td>0.163969</td>\n",
       "      <td>0.119332</td>\n",
       "      <td>0.176365</td>\n",
       "      <td>1.000000</td>\n",
       "      <td>0.052790</td>\n",
       "      <td>0.095122</td>\n",
       "      <td>0.400293</td>\n",
       "      <td>-0.003132</td>\n",
       "      <td>-0.056651</td>\n",
       "      <td>0.113083</td>\n",
       "      <td>0.041900</td>\n",
       "      <td>0.003143</td>\n",
       "      <td>0.097080</td>\n",
       "      <td>0.024904</td>\n",
       "      <td>0.049762</td>\n",
       "      <td>0.383095</td>\n",
       "      <td>0.047061</td>\n",
       "      <td>-0.043990</td>\n",
       "    </tr>\n",
       "    <tr>\n",
       "      <th>grade</th>\n",
       "      <td>-0.187464</td>\n",
       "      <td>-0.016906</td>\n",
       "      <td>0.043463</td>\n",
       "      <td>0.052790</td>\n",
       "      <td>1.000000</td>\n",
       "      <td>0.000487</td>\n",
       "      <td>0.060604</td>\n",
       "      <td>-0.055013</td>\n",
       "      <td>-0.960364</td>\n",
       "      <td>-0.021753</td>\n",
       "      <td>-0.109976</td>\n",
       "      <td>0.106985</td>\n",
       "      <td>0.106881</td>\n",
       "      <td>-0.261713</td>\n",
       "      <td>0.264374</td>\n",
       "      <td>0.083255</td>\n",
       "      <td>-0.171083</td>\n",
       "      <td>-0.306504</td>\n",
       "    </tr>\n",
       "    <tr>\n",
       "      <th>last_pymnt_amnt</th>\n",
       "      <td>0.328282</td>\n",
       "      <td>0.033853</td>\n",
       "      <td>0.189854</td>\n",
       "      <td>0.095122</td>\n",
       "      <td>0.000487</td>\n",
       "      <td>1.000000</td>\n",
       "      <td>0.148089</td>\n",
       "      <td>-0.034077</td>\n",
       "      <td>-0.005083</td>\n",
       "      <td>0.050540</td>\n",
       "      <td>-0.024590</td>\n",
       "      <td>0.045800</td>\n",
       "      <td>0.062606</td>\n",
       "      <td>-0.055013</td>\n",
       "      <td>0.131145</td>\n",
       "      <td>0.143470</td>\n",
       "      <td>-0.000627</td>\n",
       "      <td>-0.472292</td>\n",
       "    </tr>\n",
       "    <tr>\n",
       "      <th>mort_acc</th>\n",
       "      <td>0.212115</td>\n",
       "      <td>0.182158</td>\n",
       "      <td>0.274032</td>\n",
       "      <td>0.400293</td>\n",
       "      <td>0.060604</td>\n",
       "      <td>0.148089</td>\n",
       "      <td>1.000000</td>\n",
       "      <td>0.023672</td>\n",
       "      <td>-0.061855</td>\n",
       "      <td>0.111904</td>\n",
       "      <td>0.029677</td>\n",
       "      <td>0.024908</td>\n",
       "      <td>0.291582</td>\n",
       "      <td>-0.016387</td>\n",
       "      <td>0.117355</td>\n",
       "      <td>0.446515</td>\n",
       "      <td>0.047331</td>\n",
       "      <td>-0.067823</td>\n",
       "    </tr>\n",
       "    <tr>\n",
       "      <th>pub_rec</th>\n",
       "      <td>-0.090289</td>\n",
       "      <td>0.031123</td>\n",
       "      <td>-0.017802</td>\n",
       "      <td>-0.003132</td>\n",
       "      <td>-0.055013</td>\n",
       "      <td>-0.034077</td>\n",
       "      <td>0.023672</td>\n",
       "      <td>1.000000</td>\n",
       "      <td>0.044097</td>\n",
       "      <td>-0.047506</td>\n",
       "      <td>-0.027016</td>\n",
       "      <td>-0.038863</td>\n",
       "      <td>0.058955</td>\n",
       "      <td>-0.035856</td>\n",
       "      <td>-0.086650</td>\n",
       "      <td>-0.063470</td>\n",
       "      <td>0.048452</td>\n",
       "      <td>0.007622</td>\n",
       "    </tr>\n",
       "    <tr>\n",
       "      <th>int_rate</th>\n",
       "      <td>0.181051</td>\n",
       "      <td>0.016138</td>\n",
       "      <td>-0.054983</td>\n",
       "      <td>-0.056651</td>\n",
       "      <td>-0.960364</td>\n",
       "      <td>-0.005083</td>\n",
       "      <td>-0.061855</td>\n",
       "      <td>0.044097</td>\n",
       "      <td>1.000000</td>\n",
       "      <td>0.010500</td>\n",
       "      <td>0.109792</td>\n",
       "      <td>-0.110616</td>\n",
       "      <td>-0.119457</td>\n",
       "      <td>0.290339</td>\n",
       "      <td>-0.294484</td>\n",
       "      <td>-0.090411</td>\n",
       "      <td>0.161002</td>\n",
       "      <td>0.310127</td>\n",
       "    </tr>\n",
       "    <tr>\n",
       "      <th>open_acc</th>\n",
       "      <td>0.196664</td>\n",
       "      <td>0.031424</td>\n",
       "      <td>0.158531</td>\n",
       "      <td>0.113083</td>\n",
       "      <td>-0.021753</td>\n",
       "      <td>0.050540</td>\n",
       "      <td>0.111904</td>\n",
       "      <td>-0.047506</td>\n",
       "      <td>0.010500</td>\n",
       "      <td>1.000000</td>\n",
       "      <td>0.631886</td>\n",
       "      <td>-0.212076</td>\n",
       "      <td>0.127793</td>\n",
       "      <td>-0.092420</td>\n",
       "      <td>0.245166</td>\n",
       "      <td>-0.094235</td>\n",
       "      <td>0.466105</td>\n",
       "      <td>0.037132</td>\n",
       "    </tr>\n",
       "    <tr>\n",
       "      <th>num_actv_rev_tl</th>\n",
       "      <td>0.126856</td>\n",
       "      <td>0.102521</td>\n",
       "      <td>0.050465</td>\n",
       "      <td>0.041900</td>\n",
       "      <td>-0.109976</td>\n",
       "      <td>-0.024590</td>\n",
       "      <td>0.029677</td>\n",
       "      <td>-0.027016</td>\n",
       "      <td>0.109792</td>\n",
       "      <td>0.631886</td>\n",
       "      <td>1.000000</td>\n",
       "      <td>-0.227517</td>\n",
       "      <td>0.135594</td>\n",
       "      <td>0.106301</td>\n",
       "      <td>0.082899</td>\n",
       "      <td>-0.175477</td>\n",
       "      <td>0.296611</td>\n",
       "      <td>0.086175</td>\n",
       "    </tr>\n",
       "    <tr>\n",
       "      <th>mo_sin_rcnt_rev_tl_op</th>\n",
       "      <td>0.056773</td>\n",
       "      <td>0.013989</td>\n",
       "      <td>0.077700</td>\n",
       "      <td>0.003143</td>\n",
       "      <td>0.106985</td>\n",
       "      <td>0.045800</td>\n",
       "      <td>0.024908</td>\n",
       "      <td>-0.038863</td>\n",
       "      <td>-0.110616</td>\n",
       "      <td>-0.212076</td>\n",
       "      <td>-0.227517</td>\n",
       "      <td>1.000000</td>\n",
       "      <td>0.063606</td>\n",
       "      <td>0.106697</td>\n",
       "      <td>-0.037653</td>\n",
       "      <td>0.161961</td>\n",
       "      <td>-0.403793</td>\n",
       "      <td>-0.068567</td>\n",
       "    </tr>\n",
       "    <tr>\n",
       "      <th>mo_sin_old_rev_tl_op</th>\n",
       "      <td>0.146592</td>\n",
       "      <td>0.166339</td>\n",
       "      <td>0.159072</td>\n",
       "      <td>0.097080</td>\n",
       "      <td>0.106881</td>\n",
       "      <td>0.062606</td>\n",
       "      <td>0.291582</td>\n",
       "      <td>0.058955</td>\n",
       "      <td>-0.119457</td>\n",
       "      <td>0.127793</td>\n",
       "      <td>0.135594</td>\n",
       "      <td>0.063606</td>\n",
       "      <td>1.000000</td>\n",
       "      <td>-0.038751</td>\n",
       "      <td>0.203893</td>\n",
       "      <td>0.122221</td>\n",
       "      <td>-0.055056</td>\n",
       "      <td>-0.054311</td>\n",
       "    </tr>\n",
       "    <tr>\n",
       "      <th>bc_util</th>\n",
       "      <td>0.036761</td>\n",
       "      <td>0.030824</td>\n",
       "      <td>-0.016275</td>\n",
       "      <td>0.024904</td>\n",
       "      <td>-0.261713</td>\n",
       "      <td>-0.055013</td>\n",
       "      <td>-0.016387</td>\n",
       "      <td>-0.035856</td>\n",
       "      <td>0.290339</td>\n",
       "      <td>-0.092420</td>\n",
       "      <td>0.106301</td>\n",
       "      <td>0.106697</td>\n",
       "      <td>-0.038751</td>\n",
       "      <td>1.000000</td>\n",
       "      <td>-0.551569</td>\n",
       "      <td>0.042707</td>\n",
       "      <td>-0.136786</td>\n",
       "      <td>0.099306</td>\n",
       "    </tr>\n",
       "    <tr>\n",
       "      <th>bc_open_to_buy</th>\n",
       "      <td>0.195396</td>\n",
       "      <td>0.024156</td>\n",
       "      <td>0.175693</td>\n",
       "      <td>0.049762</td>\n",
       "      <td>0.264374</td>\n",
       "      <td>0.131145</td>\n",
       "      <td>0.117355</td>\n",
       "      <td>-0.086650</td>\n",
       "      <td>-0.294484</td>\n",
       "      <td>0.245166</td>\n",
       "      <td>0.082899</td>\n",
       "      <td>-0.037653</td>\n",
       "      <td>0.203893</td>\n",
       "      <td>-0.551569</td>\n",
       "      <td>1.000000</td>\n",
       "      <td>0.049449</td>\n",
       "      <td>0.053357</td>\n",
       "      <td>-0.112390</td>\n",
       "    </tr>\n",
       "    <tr>\n",
       "      <th>avg_cur_bal</th>\n",
       "      <td>0.221732</td>\n",
       "      <td>0.093803</td>\n",
       "      <td>0.436615</td>\n",
       "      <td>0.383095</td>\n",
       "      <td>0.083255</td>\n",
       "      <td>0.143470</td>\n",
       "      <td>0.446515</td>\n",
       "      <td>-0.063470</td>\n",
       "      <td>-0.090411</td>\n",
       "      <td>-0.094235</td>\n",
       "      <td>-0.175477</td>\n",
       "      <td>0.161961</td>\n",
       "      <td>0.122221</td>\n",
       "      <td>0.042707</td>\n",
       "      <td>0.049449</td>\n",
       "      <td>1.000000</td>\n",
       "      <td>-0.071266</td>\n",
       "      <td>-0.095786</td>\n",
       "    </tr>\n",
       "    <tr>\n",
       "      <th>acc_open_past_24mths</th>\n",
       "      <td>0.016331</td>\n",
       "      <td>0.012585</td>\n",
       "      <td>0.046761</td>\n",
       "      <td>0.047061</td>\n",
       "      <td>-0.171083</td>\n",
       "      <td>-0.000627</td>\n",
       "      <td>0.047331</td>\n",
       "      <td>0.048452</td>\n",
       "      <td>0.161002</td>\n",
       "      <td>0.466105</td>\n",
       "      <td>0.296611</td>\n",
       "      <td>-0.403793</td>\n",
       "      <td>-0.055056</td>\n",
       "      <td>-0.136786</td>\n",
       "      <td>0.053357</td>\n",
       "      <td>-0.071266</td>\n",
       "      <td>1.000000</td>\n",
       "      <td>0.109858</td>\n",
       "    </tr>\n",
       "    <tr>\n",
       "      <th>loan_status</th>\n",
       "      <td>0.085524</td>\n",
       "      <td>0.002670</td>\n",
       "      <td>-0.081251</td>\n",
       "      <td>-0.043990</td>\n",
       "      <td>-0.306504</td>\n",
       "      <td>-0.472292</td>\n",
       "      <td>-0.067823</td>\n",
       "      <td>0.007622</td>\n",
       "      <td>0.310127</td>\n",
       "      <td>0.037132</td>\n",
       "      <td>0.086175</td>\n",
       "      <td>-0.068567</td>\n",
       "      <td>-0.054311</td>\n",
       "      <td>0.099306</td>\n",
       "      <td>-0.112390</td>\n",
       "      <td>-0.095786</td>\n",
       "      <td>0.109858</td>\n",
       "      <td>1.000000</td>\n",
       "    </tr>\n",
       "  </tbody>\n",
       "</table>\n",
       "</div>"
      ],
      "text/plain": [
       "                       funded_amnt  emp_length  annual_inc  home_ownership  \\\n",
       "funded_amnt               1.000000    0.102330    0.421435        0.163969   \n",
       "emp_length                0.102330    1.000000    0.075507        0.119332   \n",
       "annual_inc                0.421435    0.075507    1.000000        0.176365   \n",
       "home_ownership            0.163969    0.119332    0.176365        1.000000   \n",
       "grade                    -0.187464   -0.016906    0.043463        0.052790   \n",
       "last_pymnt_amnt           0.328282    0.033853    0.189854        0.095122   \n",
       "mort_acc                  0.212115    0.182158    0.274032        0.400293   \n",
       "pub_rec                  -0.090289    0.031123   -0.017802       -0.003132   \n",
       "int_rate                  0.181051    0.016138   -0.054983       -0.056651   \n",
       "open_acc                  0.196664    0.031424    0.158531        0.113083   \n",
       "num_actv_rev_tl           0.126856    0.102521    0.050465        0.041900   \n",
       "mo_sin_rcnt_rev_tl_op     0.056773    0.013989    0.077700        0.003143   \n",
       "mo_sin_old_rev_tl_op      0.146592    0.166339    0.159072        0.097080   \n",
       "bc_util                   0.036761    0.030824   -0.016275        0.024904   \n",
       "bc_open_to_buy            0.195396    0.024156    0.175693        0.049762   \n",
       "avg_cur_bal               0.221732    0.093803    0.436615        0.383095   \n",
       "acc_open_past_24mths      0.016331    0.012585    0.046761        0.047061   \n",
       "loan_status               0.085524    0.002670   -0.081251       -0.043990   \n",
       "\n",
       "                          grade  last_pymnt_amnt  mort_acc   pub_rec  \\\n",
       "funded_amnt           -0.187464         0.328282  0.212115 -0.090289   \n",
       "emp_length            -0.016906         0.033853  0.182158  0.031123   \n",
       "annual_inc             0.043463         0.189854  0.274032 -0.017802   \n",
       "home_ownership         0.052790         0.095122  0.400293 -0.003132   \n",
       "grade                  1.000000         0.000487  0.060604 -0.055013   \n",
       "last_pymnt_amnt        0.000487         1.000000  0.148089 -0.034077   \n",
       "mort_acc               0.060604         0.148089  1.000000  0.023672   \n",
       "pub_rec               -0.055013        -0.034077  0.023672  1.000000   \n",
       "int_rate              -0.960364        -0.005083 -0.061855  0.044097   \n",
       "open_acc              -0.021753         0.050540  0.111904 -0.047506   \n",
       "num_actv_rev_tl       -0.109976        -0.024590  0.029677 -0.027016   \n",
       "mo_sin_rcnt_rev_tl_op  0.106985         0.045800  0.024908 -0.038863   \n",
       "mo_sin_old_rev_tl_op   0.106881         0.062606  0.291582  0.058955   \n",
       "bc_util               -0.261713        -0.055013 -0.016387 -0.035856   \n",
       "bc_open_to_buy         0.264374         0.131145  0.117355 -0.086650   \n",
       "avg_cur_bal            0.083255         0.143470  0.446515 -0.063470   \n",
       "acc_open_past_24mths  -0.171083        -0.000627  0.047331  0.048452   \n",
       "loan_status           -0.306504        -0.472292 -0.067823  0.007622   \n",
       "\n",
       "                       int_rate  open_acc  num_actv_rev_tl  \\\n",
       "funded_amnt            0.181051  0.196664         0.126856   \n",
       "emp_length             0.016138  0.031424         0.102521   \n",
       "annual_inc            -0.054983  0.158531         0.050465   \n",
       "home_ownership        -0.056651  0.113083         0.041900   \n",
       "grade                 -0.960364 -0.021753        -0.109976   \n",
       "last_pymnt_amnt       -0.005083  0.050540        -0.024590   \n",
       "mort_acc              -0.061855  0.111904         0.029677   \n",
       "pub_rec                0.044097 -0.047506        -0.027016   \n",
       "int_rate               1.000000  0.010500         0.109792   \n",
       "open_acc               0.010500  1.000000         0.631886   \n",
       "num_actv_rev_tl        0.109792  0.631886         1.000000   \n",
       "mo_sin_rcnt_rev_tl_op -0.110616 -0.212076        -0.227517   \n",
       "mo_sin_old_rev_tl_op  -0.119457  0.127793         0.135594   \n",
       "bc_util                0.290339 -0.092420         0.106301   \n",
       "bc_open_to_buy        -0.294484  0.245166         0.082899   \n",
       "avg_cur_bal           -0.090411 -0.094235        -0.175477   \n",
       "acc_open_past_24mths   0.161002  0.466105         0.296611   \n",
       "loan_status            0.310127  0.037132         0.086175   \n",
       "\n",
       "                       mo_sin_rcnt_rev_tl_op  mo_sin_old_rev_tl_op   bc_util  \\\n",
       "funded_amnt                         0.056773              0.146592  0.036761   \n",
       "emp_length                          0.013989              0.166339  0.030824   \n",
       "annual_inc                          0.077700              0.159072 -0.016275   \n",
       "home_ownership                      0.003143              0.097080  0.024904   \n",
       "grade                               0.106985              0.106881 -0.261713   \n",
       "last_pymnt_amnt                     0.045800              0.062606 -0.055013   \n",
       "mort_acc                            0.024908              0.291582 -0.016387   \n",
       "pub_rec                            -0.038863              0.058955 -0.035856   \n",
       "int_rate                           -0.110616             -0.119457  0.290339   \n",
       "open_acc                           -0.212076              0.127793 -0.092420   \n",
       "num_actv_rev_tl                    -0.227517              0.135594  0.106301   \n",
       "mo_sin_rcnt_rev_tl_op               1.000000              0.063606  0.106697   \n",
       "mo_sin_old_rev_tl_op                0.063606              1.000000 -0.038751   \n",
       "bc_util                             0.106697             -0.038751  1.000000   \n",
       "bc_open_to_buy                     -0.037653              0.203893 -0.551569   \n",
       "avg_cur_bal                         0.161961              0.122221  0.042707   \n",
       "acc_open_past_24mths               -0.403793             -0.055056 -0.136786   \n",
       "loan_status                        -0.068567             -0.054311  0.099306   \n",
       "\n",
       "                       bc_open_to_buy  avg_cur_bal  acc_open_past_24mths  \\\n",
       "funded_amnt                  0.195396     0.221732              0.016331   \n",
       "emp_length                   0.024156     0.093803              0.012585   \n",
       "annual_inc                   0.175693     0.436615              0.046761   \n",
       "home_ownership               0.049762     0.383095              0.047061   \n",
       "grade                        0.264374     0.083255             -0.171083   \n",
       "last_pymnt_amnt              0.131145     0.143470             -0.000627   \n",
       "mort_acc                     0.117355     0.446515              0.047331   \n",
       "pub_rec                     -0.086650    -0.063470              0.048452   \n",
       "int_rate                    -0.294484    -0.090411              0.161002   \n",
       "open_acc                     0.245166    -0.094235              0.466105   \n",
       "num_actv_rev_tl              0.082899    -0.175477              0.296611   \n",
       "mo_sin_rcnt_rev_tl_op       -0.037653     0.161961             -0.403793   \n",
       "mo_sin_old_rev_tl_op         0.203893     0.122221             -0.055056   \n",
       "bc_util                     -0.551569     0.042707             -0.136786   \n",
       "bc_open_to_buy               1.000000     0.049449              0.053357   \n",
       "avg_cur_bal                  0.049449     1.000000             -0.071266   \n",
       "acc_open_past_24mths         0.053357    -0.071266              1.000000   \n",
       "loan_status                 -0.112390    -0.095786              0.109858   \n",
       "\n",
       "                       loan_status  \n",
       "funded_amnt               0.085524  \n",
       "emp_length                0.002670  \n",
       "annual_inc               -0.081251  \n",
       "home_ownership           -0.043990  \n",
       "grade                    -0.306504  \n",
       "last_pymnt_amnt          -0.472292  \n",
       "mort_acc                 -0.067823  \n",
       "pub_rec                   0.007622  \n",
       "int_rate                  0.310127  \n",
       "open_acc                  0.037132  \n",
       "num_actv_rev_tl           0.086175  \n",
       "mo_sin_rcnt_rev_tl_op    -0.068567  \n",
       "mo_sin_old_rev_tl_op     -0.054311  \n",
       "bc_util                   0.099306  \n",
       "bc_open_to_buy           -0.112390  \n",
       "avg_cur_bal              -0.095786  \n",
       "acc_open_past_24mths      0.109858  \n",
       "loan_status               1.000000  "
      ]
     },
     "execution_count": 15,
     "metadata": {},
     "output_type": "execute_result"
    }
   ],
   "source": [
    "data_clean.corr()"
   ]
  },
  {
   "cell_type": "markdown",
   "metadata": {
    "id": "-aHuB7ibVehh"
   },
   "source": [
    "#Plotting Learning Curves for Logistic Regression"
   ]
  },
  {
   "cell_type": "markdown",
   "metadata": {
    "id": "b9Vy8UUpnmF5"
   },
   "source": [
    "Esta curva de aprendizaje muestra claramente que nuestros modelos no aprenden nada después de ~ 11.000 muestras. Así que hicimos un muestreo aleatorio de nuestro conjunto de datos y usamos solo 11.000 muestras de nuestro conjunto de datos."
   ]
  },
  {
   "cell_type": "code",
   "execution_count": 16,
   "metadata": {
    "colab": {
     "base_uri": "https://localhost:8080/",
     "height": 295
    },
    "id": "mH5YguBWVZDn",
    "outputId": "ef33ba2b-9508-4cb7-d5f3-cd5829555626"
   },
   "outputs": [
    {
     "data": {
      "image/png": "[encoded data removed]",
      "text/plain": [
       "<Figure size 432x288 with 1 Axes>"
      ]
     },
     "metadata": {
      "needs_background": "light"
     },
     "output_type": "display_data"
    }
   ],
   "source": [
    "\n",
    "import numpy as np\n",
    "from sklearn.svm import SVC\n",
    "from sklearn.model_selection import learning_curve\n",
    "from sklearn.model_selection import ShuffleSplit\n",
    "\n",
    "def plot_learning_curve(estimator, title, X, y, ylim=None, cv=None,\n",
    "                        n_jobs=1, train_sizes=np.linspace(.1, 1.0, 5)):\n",
    "    plt.figure()\n",
    "    plt.title(title)\n",
    "    if ylim is not None:\n",
    "        plt.ylim(*ylim)\n",
    "    plt.xlabel(\"Training examples\")\n",
    "    plt.ylabel(\"Score\")\n",
    "    train_sizes, train_scores, test_scores = learning_curve(\n",
    "        estimator, X, y, cv=cv, n_jobs=n_jobs, train_sizes=train_sizes)\n",
    "    train_scores_mean = np.mean(train_scores, axis=1)\n",
    "    train_scores_std = np.std(train_scores, axis=1)\n",
    "    test_scores_mean = np.mean(test_scores, axis=1)\n",
    "    test_scores_std = np.std(test_scores, axis=1)\n",
    "    plt.grid()\n",
    "    \n",
    "    plt.fill_between(train_sizes, train_scores_mean - train_scores_std,\n",
    "                     train_scores_mean + train_scores_std, alpha=0.1,\n",
    "                     color=\"r\")\n",
    "    plt.fill_between(train_sizes, test_scores_mean - test_scores_std,\n",
    "                     test_scores_mean + test_scores_std, alpha=0.1, color=\"g\")\n",
    "    plt.plot(train_sizes, train_scores_mean, 'o-', color=\"r\",\n",
    "             label=\"Training score\")\n",
    "    plt.plot(train_sizes, test_scores_mean, 'o-', color=\"g\",\n",
    "             label=\"Cross-validation score\")\n",
    "    plt.legend(loc=\"best\")\n",
    "    return plt\n",
    "\n",
    "X, y = data_clean.iloc[:,:-1].values, data_clean.iloc[:,-1].values\n",
    "title = \"Learning Curves (Logistic Regression)\"\n",
    "# Cross validation with 100 iterations to get smoother mean test and train\n",
    "# score curves, each time with 20% data randomly selected as a validation set.\n",
    "cv = ShuffleSplit(n_splits=100, test_size=0.2, random_state=0)\n",
    "estimator = linear_model.LogisticRegression()\n",
    "plot_learning_curve(estimator, title, X, y, ylim=(0.75, 0.90), cv=cv, n_jobs=4)\n",
    "plt.show()"
   ]
  },
  {
   "cell_type": "markdown",
   "metadata": {
    "id": "fSaGsusdgYff"
   },
   "source": [
    "# Plot Area under the Curve AUC roc_curve auc"
   ]
  },
  {
   "cell_type": "code",
   "execution_count": 17,
   "metadata": {
    "id": "HbQbVJeigVrJ"
   },
   "outputs": [],
   "source": [
    "import seaborn as sns\n",
    "sns.set('talk', 'whitegrid', 'dark', font_scale=1,rc={\"lines.linewidth\": 2, 'grid.linestyle': '--'})\n",
    "def plotAUC(truth, pred, lab):\n",
    "    fpr, tpr, _ = metrics.roc_curve(truth,pred)\n",
    "    roc_auc = metrics.auc(fpr, tpr)\n",
    "    lw = 2\n",
    "    c = (np.random.rand(), np.random.rand(), np.random.rand())\n",
    "    plt.plot(fpr, tpr, color= c,lw=lw, label= lab +'(AUC = %0.2f)' % roc_auc)\n",
    "    plt.plot([0, 1], [0, 1], color='navy', lw=lw, linestyle='--')\n",
    "    plt.xlim([0.0, 1.0])\n",
    "    plt.ylim([0.0, 1.0])\n",
    "    plt.xlabel('False Positive Rate')\n",
    "    plt.ylabel('True Positive Rate')\n",
    "    plt.title('ROC curve') #Receiver Operating Characteristic \n",
    "    plt.legend(loc=\"lower right\")"
   ]
  },
  {
   "cell_type": "markdown",
   "metadata": {
    "id": "JFTqQGelggLX"
   },
   "source": [
    "# Plot Confusion Matrix plot_confusion_matrix"
   ]
  },
  {
   "cell_type": "markdown",
   "metadata": {
    "id": "RwHl9qP2n1UZ"
   },
   "source": [
    "Esta es una función de visualización de matriz de confusión invocable. Hemos utilizado esta función para visualizar verdaderos positivos, verdaderos negativos, falsos positivos y falsos negativos para todos los modelos."
   ]
  },
  {
   "cell_type": "code",
   "execution_count": 18,
   "metadata": {
    "id": "KwE-XsCKgeoi"
   },
   "outputs": [],
   "source": [
    "import itertools\n",
    "from sklearn.metrics import confusion_matrix\n",
    "def plot_confusion_matrix(model, normalize=False): # This function prints and plots the confusion matrix.\n",
    "    cm = confusion_matrix(y_test, model, labels=[0, 1])\n",
    "    classes=[\"Will Pay\", \"Will Default\"]\n",
    "    cmap = plt.cm.Blues\n",
    "    title = \"Confusion Matrix\"\n",
    "    if normalize:\n",
    "        cm = cm.astype('float') / cm.sum(axis=1)[:, np.newaxis]\n",
    "        cm = np.around(cm, decimals=3)\n",
    "    plt.imshow(cm, interpolation='nearest', cmap=cmap)\n",
    "    plt.title(title)\n",
    "    plt.colorbar()\n",
    "    tick_marks = np.arange(len(classes))\n",
    "    plt.xticks(tick_marks, classes, rotation=45)\n",
    "    plt.yticks(tick_marks, classes)\n",
    "    thresh = cm.max() / 2.\n",
    "    for i, j in itertools.product(range(cm.shape[0]), range(cm.shape[1])):\n",
    "        plt.text(j, i, cm[i, j],\n",
    "                 horizontalalignment=\"center\",\n",
    "                 color=\"white\" if cm[i, j] > thresh else \"black\")\n",
    "    plt.tight_layout()\n",
    "    plt.ylabel('True label')\n",
    "    plt.xlabel('Predicted label')"
   ]
  },
  {
   "cell_type": "code",
   "execution_count": 19,
   "metadata": {
    "id": "l8_QwmU4gjpH"
   },
   "outputs": [],
   "source": [
    "X_train, X_test, y_train, y_test = train_test_split(data_clean.iloc[:,:-1], data_clean.iloc[:,-1], test_size=0.2, random_state=42)\n",
    "bs_train, bs_test = train_test_split(data_clean, test_size = 0.2, random_state=42) #just for bootstrapping"
   ]
  },
  {
   "cell_type": "code",
   "execution_count": 20,
   "metadata": {
    "colab": {
     "base_uri": "https://localhost:8080/",
     "height": 226
    },
    "id": "Y-ihIllKglYQ",
    "outputId": "c959c3e8-0d5d-40e0-ffcf-b7a807a02d77"
   },
   "outputs": [
    {
     "data": {
      "text/html": [
       "<div>\n",
       "<style scoped>\n",
       "    .dataframe tbody tr th:only-of-type {\n",
       "        vertical-align: middle;\n",
       "    }\n",
       "\n",
       "    .dataframe tbody tr th {\n",
       "        vertical-align: top;\n",
       "    }\n",
       "\n",
       "    .dataframe thead th {\n",
       "        text-align: right;\n",
       "    }\n",
       "</style>\n",
       "<table border=\"1\" class=\"dataframe\">\n",
       "  <thead>\n",
       "    <tr style=\"text-align: right;\">\n",
       "      <th></th>\n",
       "      <th>funded_amnt</th>\n",
       "      <th>emp_length</th>\n",
       "      <th>annual_inc</th>\n",
       "      <th>home_ownership</th>\n",
       "      <th>grade</th>\n",
       "      <th>last_pymnt_amnt</th>\n",
       "      <th>mort_acc</th>\n",
       "      <th>pub_rec</th>\n",
       "      <th>int_rate</th>\n",
       "      <th>open_acc</th>\n",
       "      <th>num_actv_rev_tl</th>\n",
       "      <th>mo_sin_rcnt_rev_tl_op</th>\n",
       "      <th>mo_sin_old_rev_tl_op</th>\n",
       "      <th>bc_util</th>\n",
       "      <th>bc_open_to_buy</th>\n",
       "      <th>avg_cur_bal</th>\n",
       "      <th>acc_open_past_24mths</th>\n",
       "    </tr>\n",
       "  </thead>\n",
       "  <tbody>\n",
       "    <tr>\n",
       "      <th>10735</th>\n",
       "      <td>0.114706</td>\n",
       "      <td>-1.217367</td>\n",
       "      <td>-0.024098</td>\n",
       "      <td>-0.636019</td>\n",
       "      <td>-2.473199</td>\n",
       "      <td>-0.666039</td>\n",
       "      <td>-0.843711</td>\n",
       "      <td>1.563513</td>\n",
       "      <td>2.230868</td>\n",
       "      <td>1.140259</td>\n",
       "      <td>-0.244523</td>\n",
       "      <td>-0.802185</td>\n",
       "      <td>-5.307189e-01</td>\n",
       "      <td>-1.621375</td>\n",
       "      <td>-0.210595</td>\n",
       "      <td>-5.325363e-01</td>\n",
       "      <td>2.448954</td>\n",
       "    </tr>\n",
       "    <tr>\n",
       "      <th>5937</th>\n",
       "      <td>-0.643827</td>\n",
       "      <td>-0.923871</td>\n",
       "      <td>-0.869260</td>\n",
       "      <td>-0.636019</td>\n",
       "      <td>-0.166329</td>\n",
       "      <td>-0.702829</td>\n",
       "      <td>-0.843711</td>\n",
       "      <td>-0.323586</td>\n",
       "      <td>-0.197717</td>\n",
       "      <td>-0.668192</td>\n",
       "      <td>-0.244523</td>\n",
       "      <td>-0.737169</td>\n",
       "      <td>-1.637193e+00</td>\n",
       "      <td>-0.357653</td>\n",
       "      <td>-0.051509</td>\n",
       "      <td>-7.769706e-01</td>\n",
       "      <td>0.281629</td>\n",
       "    </tr>\n",
       "    <tr>\n",
       "      <th>7642</th>\n",
       "      <td>0.084364</td>\n",
       "      <td>1.130600</td>\n",
       "      <td>1.424750</td>\n",
       "      <td>-0.636019</td>\n",
       "      <td>1.371584</td>\n",
       "      <td>-0.659431</td>\n",
       "      <td>-0.843711</td>\n",
       "      <td>-0.323586</td>\n",
       "      <td>-1.131262</td>\n",
       "      <td>-0.467253</td>\n",
       "      <td>0.781753</td>\n",
       "      <td>0.823211</td>\n",
       "      <td>9.749981e-01</td>\n",
       "      <td>0.779313</td>\n",
       "      <td>-0.074127</td>\n",
       "      <td>-4.810325e-01</td>\n",
       "      <td>-1.163255</td>\n",
       "    </tr>\n",
       "    <tr>\n",
       "      <th>3328</th>\n",
       "      <td>1.176652</td>\n",
       "      <td>-1.510863</td>\n",
       "      <td>0.867500</td>\n",
       "      <td>0.895380</td>\n",
       "      <td>1.371584</td>\n",
       "      <td>-0.614032</td>\n",
       "      <td>-0.379498</td>\n",
       "      <td>-0.323586</td>\n",
       "      <td>-1.247670</td>\n",
       "      <td>0.135564</td>\n",
       "      <td>0.439661</td>\n",
       "      <td>-0.347074</td>\n",
       "      <td>-3.368008e-01</td>\n",
       "      <td>-0.976070</td>\n",
       "      <td>3.407015</td>\n",
       "      <td>6.047152e-01</td>\n",
       "      <td>1.004071</td>\n",
       "    </tr>\n",
       "    <tr>\n",
       "      <th>8681</th>\n",
       "      <td>-0.643827</td>\n",
       "      <td>1.130600</td>\n",
       "      <td>0.124502</td>\n",
       "      <td>-0.636019</td>\n",
       "      <td>1.371584</td>\n",
       "      <td>0.635922</td>\n",
       "      <td>-0.843711</td>\n",
       "      <td>-0.323586</td>\n",
       "      <td>-1.423423</td>\n",
       "      <td>-0.869131</td>\n",
       "      <td>0.000000</td>\n",
       "      <td>0.000000</td>\n",
       "      <td>3.242049e-16</td>\n",
       "      <td>0.191624</td>\n",
       "      <td>-0.400141</td>\n",
       "      <td>-2.333369e-16</td>\n",
       "      <td>0.281629</td>\n",
       "    </tr>\n",
       "  </tbody>\n",
       "</table>\n",
       "</div>"
      ],
      "text/plain": [
       "       funded_amnt  emp_length  annual_inc  home_ownership     grade  \\\n",
       "10735     0.114706   -1.217367   -0.024098       -0.636019 -2.473199   \n",
       "5937     -0.643827   -0.923871   -0.869260       -0.636019 -0.166329   \n",
       "7642      0.084364    1.130600    1.424750       -0.636019  1.371584   \n",
       "3328      1.176652   -1.510863    0.867500        0.895380  1.371584   \n",
       "8681     -0.643827    1.130600    0.124502       -0.636019  1.371584   \n",
       "\n",
       "       last_pymnt_amnt  mort_acc   pub_rec  int_rate  open_acc  \\\n",
       "10735        -0.666039 -0.843711  1.563513  2.230868  1.140259   \n",
       "5937         -0.702829 -0.843711 -0.323586 -0.197717 -0.668192   \n",
       "7642         -0.659431 -0.843711 -0.323586 -1.131262 -0.467253   \n",
       "3328         -0.614032 -0.379498 -0.323586 -1.247670  0.135564   \n",
       "8681          0.635922 -0.843711 -0.323586 -1.423423 -0.869131   \n",
       "\n",
       "       num_actv_rev_tl  mo_sin_rcnt_rev_tl_op  mo_sin_old_rev_tl_op   bc_util  \\\n",
       "10735        -0.244523              -0.802185         -5.307189e-01 -1.621375   \n",
       "5937         -0.244523              -0.737169         -1.637193e+00 -0.357653   \n",
       "7642          0.781753               0.823211          9.749981e-01  0.779313   \n",
       "3328          0.439661              -0.347074         -3.368008e-01 -0.976070   \n",
       "8681          0.000000               0.000000          3.242049e-16  0.191624   \n",
       "\n",
       "       bc_open_to_buy   avg_cur_bal  acc_open_past_24mths  \n",
       "10735       -0.210595 -5.325363e-01              2.448954  \n",
       "5937        -0.051509 -7.769706e-01              0.281629  \n",
       "7642        -0.074127 -4.810325e-01             -1.163255  \n",
       "3328         3.407015  6.047152e-01              1.004071  \n",
       "8681        -0.400141 -2.333369e-16              0.281629  "
      ]
     },
     "execution_count": 20,
     "metadata": {},
     "output_type": "execute_result"
    }
   ],
   "source": [
    "X_train.head()"
   ]
  },
  {
   "cell_type": "markdown",
   "metadata": {
    "id": "KIpO4zL8n4o3"
   },
   "source": [
    "Selección de características mediante RFE (eliminación de características recursivas)"
   ]
  },
  {
   "cell_type": "code",
   "execution_count": 21,
   "metadata": {
    "colab": {
     "base_uri": "https://localhost:8080/"
    },
    "id": "GKFL1-kDgmtg",
    "outputId": "38df32c0-83ee-4933-a876-d99610838d55"
   },
   "outputs": [
    {
     "name": "stdout",
     "output_type": "stream",
     "text": [
      "[ True False  True False  True  True False False  True False  True False\n",
      " False  True  True  True  True]\n",
      "[1 6 1 4 1 1 3 8 1 7 1 5 2 1 1 1 1]\n"
     ]
    }
   ],
   "source": [
    "from sklearn.feature_selection import RFE\n",
    "# crea el modelo RFE y selecciona 3 atributos\n",
    "clf_LR = linear_model.LogisticRegression(C=1e30)\n",
    "clf_LR.fit(X_train,y_train)\n",
    "rfe = RFE(clf_LR, 10)\n",
    "rfe = rfe.fit(data_clean.iloc[:,:-1].values, data_clean.iloc[:,-1].values)\n",
    "# resumir la selección de los atributos\n",
    "print(rfe.support_)\n",
    "print(rfe.ranking_)\n",
    "# ['funded_amnt','emp_length','annual_inc','home_ownership','grade',\"last_pymnt_amnt\", \"mort_acc\", \"pub_rec\", \n",
    "# \"int_rate\", \"open_acc\",\"num_actv_rev_tl\",\"mo_sin_rcnt_rev_tl_op\",\"mo_sin_old_rev_tl_op\",\"bc_util\",\"bc_open_to_buy\",\n",
    "#\"avg_cur_bal\",\"acc_open_past_24mths\",'loan_status']"
   ]
  },
  {
   "cell_type": "code",
   "execution_count": 22,
   "metadata": {
    "colab": {
     "base_uri": "https://localhost:8080/"
    },
    "id": "rZPffK_2goRh",
    "outputId": "85bf4095-5337-46fb-b9a9-6f8946812151"
   },
   "outputs": [
    {
     "name": "stdout",
     "output_type": "stream",
     "text": [
      "Expected Variance is [0.16210036 0.15503394 0.12714913 0.07447861 0.07116896 0.06527833\n",
      " 0.05312389 0.04843985 0.0434853  0.0413466 ]\n"
     ]
    }
   ],
   "source": [
    "#PCA (Principal Component Analysis) (Análisis de componentes principales)\n",
    "from sklearn.decomposition import PCA \n",
    "pca = PCA(n_components=10, whiten=True)\n",
    "X_train_pca = pca.fit_transform(X_train)\n",
    "X_test_pca = pca.transform(X_test)\n",
    "explained_variance = pca.explained_variance_ratio_\n",
    "print('Expected Variance is '+ str(explained_variance))"
   ]
  },
  {
   "cell_type": "code",
   "execution_count": 23,
   "metadata": {
    "colab": {
     "base_uri": "https://localhost:8080/"
    },
    "id": "FUj8TtpGgqFS",
    "outputId": "29fd131e-801c-4d5e-a9db-8f89dd7484b0"
   },
   "outputs": [
    {
     "name": "stdout",
     "output_type": "stream",
     "text": [
      "(8800, 10)\n",
      "(11000, 11)\n"
     ]
    }
   ],
   "source": [
    "features = ['funded_amnt','annual_inc','grade',\"last_pymnt_amnt\", \"int_rate\",\n",
    "            \"mo_sin_rcnt_rev_tl_op\",\"mo_sin_old_rev_tl_op\",\"bc_util\",\"bc_open_to_buy\",\"acc_open_past_24mths\",\"loan_status\"]\n",
    "X_train, X_test = X_train[features[:-1]], X_test[features[:-1]]\n",
    "data_clean = data_clean[features]\n",
    "print(X_train.shape)\n",
    "print(data_clean.shape)"
   ]
  },
  {
   "cell_type": "markdown",
   "metadata": {
    "id": "PjPeZH-Mgzev"
   },
   "source": [
    "# Plot Correlation Coefficient"
   ]
  },
  {
   "cell_type": "code",
   "execution_count": 24,
   "metadata": {
    "colab": {
     "base_uri": "https://localhost:8080/",
     "height": 686
    },
    "id": "eLeV0y-vgxS4",
    "outputId": "97b13827-6265-47aa-e78c-22942f382bc8"
   },
   "outputs": [
    {
     "data": {
      "text/plain": [
       "<AxesSubplot:>"
      ]
     },
     "execution_count": 24,
     "metadata": {},
     "output_type": "execute_result"
    },
    {
     "data": {
      "image/png": "[encoded data removed]",
      "text/plain": [
       "<Figure size 720x720 with 2 Axes>"
      ]
     },
     "metadata": {},
     "output_type": "display_data"
    }
   ],
   "source": [
    "dataViz = data_clean\n",
    "sns.set_context(context='notebook')\n",
    "fig, ax = plt.subplots(figsize=(10,10)) \n",
    "corr = dataViz.corr()\n",
    "\n",
    "# Genera una máscara para el triángulo superior.\n",
    "mask = np.zeros_like(corr, dtype=np.bool)\n",
    "mask[np.tril_indices_from(mask)] = True\n",
    "\n",
    "# Genere un mapa de colores divergentes personalizado\n",
    "cmap = sns.diverging_palette(220, 10, as_cmap=True)\n",
    "\n",
    "sns.heatmap(corr, cmap=cmap,linewidths=1, vmin=-1, vmax=1, square=True, cbar=True, center=0, ax=ax, mask=mask)"
   ]
  },
  {
   "cell_type": "markdown",
   "metadata": {
    "id": "LPRwm-23ofHj"
   },
   "source": [
    "\n",
    "#Random Forest with randomized Search"
   ]
  },
  {
   "cell_type": "markdown",
   "metadata": {
    "id": "tLJJOo7Yog-W"
   },
   "source": [
    "El Random forest cuando se implementó con randomized search obtuvimos las mejores precisiones y un mínimo de falsos negativos (la predicción de borowwer no fallará aunque lo haga. Esto podría afectar la credibilidad de la empresa). Usamos la randomized search para encontrar los mejores hiperparámetros para el modelo."
   ]
  },
  {
   "cell_type": "code",
   "execution_count": 25,
   "metadata": {
    "colab": {
     "base_uri": "https://localhost:8080/",
     "height": 358
    },
    "id": "r94h1ugTg3Uo",
    "outputId": "f0391e2b-a175-478d-c19a-acb403e4ef2b"
   },
   "outputs": [
    {
     "data": {
      "text/plain": [
       "RandomizedSearchCV(cv=10, estimator=RandomForestClassifier(random_state=0),\n",
       "                   n_iter=9, param_distributions={'max_features': range(1, 10)},\n",
       "                   random_state=10, scoring='accuracy')"
      ]
     },
     "execution_count": 25,
     "metadata": {},
     "output_type": "execute_result"
    }
   ],
   "source": [
    "from sklearn.model_selection import RandomizedSearchCV\n",
    "rf = RandomForestClassifier(criterion='gini', random_state=0)\n",
    "maxFeatures = range(1,data_clean.shape[1]-1)\n",
    "param_dist = dict(max_features=maxFeatures)\n",
    "rand = RandomizedSearchCV(rf, param_dist, cv=10, scoring='accuracy', n_iter=len(maxFeatures), random_state=10)\n",
    "X=data_clean.iloc[:,:-1].values\n",
    "y=data_clean.iloc[:,-1].values\n",
    "rand.fit(X,y)"
   ]
  },
  {
   "cell_type": "code",
   "execution_count": 26,
   "metadata": {
    "id": "4WqqZyhCAOLD"
   },
   "outputs": [
    {
     "name": "stdout",
     "output_type": "stream",
     "text": [
      "RandomForestClassifier(max_features=9, random_state=0)\n"
     ]
    }
   ],
   "source": [
    "print(rand.best_estimator_)"
   ]
  },
  {
   "cell_type": "code",
   "execution_count": 27,
   "metadata": {
    "id": "yGgYP5ax_7SB"
   },
   "outputs": [
    {
     "data": {
      "text/plain": [
       "dict_values([array([0.58296385, 0.83686404, 1.14401362, 1.79838076, 1.80976901,\n",
       "       2.01055059, 2.76244109, 3.22422848, 3.34917479]), array([0.01497531, 0.02377009, 0.04376785, 0.14572662, 0.14008563,\n",
       "       0.04948995, 0.42407809, 0.34212132, 0.15542015]), array([0.02274075, 0.02123277, 0.02124228, 0.02413752, 0.02074838,\n",
       "       0.01964774, 0.02423561, 0.02353883, 0.02158735]), array([0.00059805, 0.00109008, 0.00140532, 0.00203051, 0.00153335,\n",
       "       0.00089305, 0.00590106, 0.00373627, 0.00082944]), masked_array(data=[1, 2, 3, 4, 5, 6, 7, 8, 9],\n",
       "             mask=[False, False, False, False, False, False, False, False,\n",
       "                   False],\n",
       "       fill_value='?',\n",
       "            dtype=object), [{'max_features': 1}, {'max_features': 2}, {'max_features': 3}, {'max_features': 4}, {'max_features': 5}, {'max_features': 6}, {'max_features': 7}, {'max_features': 8}, {'max_features': 9}], array([0.82363636, 0.83727273, 0.83454545, 0.83363636, 0.83      ,\n",
       "       0.82909091, 0.83636364, 0.82818182, 0.83818182]), array([0.82181818, 0.82363636, 0.82181818, 0.82727273, 0.81636364,\n",
       "       0.82      , 0.82181818, 0.82181818, 0.82818182]), array([0.83      , 0.84272727, 0.84363636, 0.84363636, 0.84      ,\n",
       "       0.84181818, 0.84272727, 0.83909091, 0.84545455]), array([0.83181818, 0.83545455, 0.84727273, 0.84090909, 0.84181818,\n",
       "       0.84727273, 0.85      , 0.85090909, 0.85272727]), array([0.82545455, 0.82727273, 0.82818182, 0.82363636, 0.82454545,\n",
       "       0.82272727, 0.82363636, 0.82727273, 0.82181818]), array([0.81545455, 0.81909091, 0.81636364, 0.82727273, 0.82272727,\n",
       "       0.81909091, 0.81090909, 0.81545455, 0.81454545]), array([0.81454545, 0.83363636, 0.83363636, 0.83181818, 0.83636364,\n",
       "       0.83636364, 0.84181818, 0.84090909, 0.83818182]), array([0.82545455, 0.82636364, 0.83      , 0.82363636, 0.82727273,\n",
       "       0.82363636, 0.83636364, 0.82909091, 0.83454545]), array([0.82272727, 0.83545455, 0.83818182, 0.84636364, 0.83727273,\n",
       "       0.84363636, 0.84363636, 0.85272727, 0.84727273]), array([0.82272727, 0.82636364, 0.83090909, 0.82909091, 0.83454545,\n",
       "       0.83181818, 0.82181818, 0.82727273, 0.82363636]), array([0.82336364, 0.83072727, 0.83245455, 0.83272727, 0.83109091,\n",
       "       0.83154545, 0.83290909, 0.83327273, 0.83445455]), array([0.00517543, 0.00689712, 0.00884252, 0.0078203 , 0.00786035,\n",
       "       0.00978319, 0.01192816, 0.0116008 , 0.01165942]), array([9, 8, 5, 4, 7, 6, 3, 2, 1])])"
      ]
     },
     "execution_count": 27,
     "metadata": {},
     "output_type": "execute_result"
    }
   ],
   "source": [
    "rand.cv_results_.values()"
   ]
  },
  {
   "cell_type": "code",
   "execution_count": 28,
   "metadata": {
    "id": "WOHv593IrL_C"
   },
   "outputs": [
    {
     "name": "stdout",
     "output_type": "stream",
     "text": [
      "0.835\n"
     ]
    }
   ],
   "source": [
    "randomForest = RandomForestClassifier(bootstrap=True,criterion = \"gini\",max_features=rand.best_estimator_.max_features,random_state=0 )\n",
    "randomForest.fit(X_train,y_train)\n",
    "rfPredict = randomForest.predict(X_test)\n",
    "rfPredictproba = randomForest.predict_proba(X_test)[:,1] #for ROC curve\n",
    "rfAccuracy = accuracy_score(y_test,rfPredict)\n",
    "roc_score = metrics.roc_auc_score(y_test,rfPredict)\n",
    "print(rfAccuracy)"
   ]
  },
  {
   "cell_type": "markdown",
   "metadata": {
    "id": "2h6DNenvo7bH"
   },
   "source": [
    "#Importancia de la característica"
   ]
  },
  {
   "cell_type": "code",
   "execution_count": 29,
   "metadata": {
    "id": "c2b7JQfUrOew"
   },
   "outputs": [
    {
     "data": {
      "text/plain": [
       "Text(0, 0.5, 'Normalized Gini Importance')"
      ]
     },
     "execution_count": 29,
     "metadata": {},
     "output_type": "execute_result"
    },
    {
     "data": {
      "image/png": "[encoded data removed]",
      "text/plain": [
       "<Figure size 432x288 with 1 Axes>"
      ]
     },
     "metadata": {},
     "output_type": "display_data"
    }
   ],
   "source": [
    "fig, ax = plt.subplots()\n",
    "width=0.35\n",
    "ax.bar(np.arange(len(features)-1), randomForest.feature_importances_, width, color='r')\n",
    "ax.set_xticks(np.arange(len(randomForest.feature_importances_)))\n",
    "ax.set_xticklabels(X_train.columns.values,rotation=90)\n",
    "plt.title('Feature Importance from DT')\n",
    "ax.set_ylabel('Normalized Gini Importance')"
   ]
  },
  {
   "cell_type": "code",
   "execution_count": 30,
   "metadata": {
    "id": "egGYTWt4rPSu"
   },
   "outputs": [
    {
     "data": {
      "image/png": "[encoded data removed]",
      "text/plain": [
       "<Figure size 432x288 with 1 Axes>"
      ]
     },
     "metadata": {},
     "output_type": "display_data"
    },
    {
     "data": {
      "image/png": "[encoded data removed]",
      "text/plain": [
       "<Figure size 432x432 with 2 Axes>"
      ]
     },
     "metadata": {},
     "output_type": "display_data"
    }
   ],
   "source": [
    "plotAUC(y_test,rfPredictproba, 'Random Forest')\n",
    "plt.show()\n",
    "plt.figure(figsize=(6,6))\n",
    "plot_confusion_matrix(rfPredict, normalize=True)\n",
    "plt.show()"
   ]
  },
  {
   "cell_type": "code",
   "execution_count": 31,
   "metadata": {
    "id": "0TntkuthrSGI"
   },
   "outputs": [
    {
     "name": "stdout",
     "output_type": "stream",
     "text": [
      "Best accuracy is 0.8276363636363635\n",
      "LogisticRegression(C=1000, random_state=0)\n"
     ]
    }
   ],
   "source": [
    "from sklearn.model_selection import GridSearchCV\n",
    "def cross_validation_best_parameters(model, param_grid):\n",
    "    grid = GridSearchCV(model, param_grid,cv=10, scoring='accuracy')\n",
    "    X=data_clean.iloc[:,:-1].values\n",
    "    y=data_clean.iloc[:,-1].values\n",
    "    grid.fit(X,y)\n",
    "    mean_scores = [result for result in grid.cv_results_]\n",
    "    return mean_scores,grid.best_score_,grid.best_estimator_\n",
    "logreg = linear_model.LogisticRegression(random_state=0)\n",
    "c=[0.001, 0.01, 0.1, 1, 10, 100, 1000]\n",
    "param_grid = dict(C=c)\n",
    "mean_scores,Best_Accuracy, Best_classifier = cross_validation_best_parameters(logreg,param_grid)\n",
    "print(\"Best accuracy is \"+ str(Best_Accuracy))\n",
    "print(Best_classifier)"
   ]
  },
  {
   "cell_type": "code",
   "execution_count": 32,
   "metadata": {
    "id": "iKLXe0jYrTPq"
   },
   "outputs": [
    {
     "name": "stdout",
     "output_type": "stream",
     "text": [
      "Logistic regression accuracy is  0.8259090909090909\n"
     ]
    },
    {
     "data": {
      "image/png": "[encoded data removed]",
      "text/plain": [
       "<Figure size 432x288 with 1 Axes>"
      ]
     },
     "metadata": {},
     "output_type": "display_data"
    },
    {
     "data": {
      "image/png": "[encoded data removed]",
      "text/plain": [
       "<Figure size 432x432 with 2 Axes>"
      ]
     },
     "metadata": {},
     "output_type": "display_data"
    }
   ],
   "source": [
    "clf_LR = linear_model.LogisticRegression(C=Best_classifier.C)\n",
    "clf_LR.fit(X_train,y_train)\n",
    "LR_Predict = clf_LR.predict_proba(X_test)[:,1]\n",
    "LR_Predict_bin = clf_LR.predict(X_test)\n",
    "LR_Accuracy = accuracy_score(y_test,LR_Predict.round())\n",
    "print(\"Logistic regression accuracy is \",LR_Accuracy)\n",
    "plotAUC(y_test,rfPredictproba, 'Random Forest')\n",
    "plotAUC(y_test,LR_Predict,'Logistic Regression')\n",
    "plt.show()\n",
    "plt.figure(figsize=(6,6))\n",
    "plot_confusion_matrix(LR_Predict_bin, normalize=True)\n",
    "plt.show()"
   ]
  },
  {
   "cell_type": "markdown",
   "metadata": {
    "id": "hEzzwF_Uc0oL"
   },
   "source": [
    "#SVM"
   ]
  },
  {
   "cell_type": "code",
   "execution_count": 33,
   "metadata": {
    "id": "SPOgiga3CjVr"
   },
   "outputs": [
    {
     "name": "stdout",
     "output_type": "stream",
     "text": [
      "{'C': 10}\n",
      "---------------\n",
      "SVC(C=10)\n"
     ]
    }
   ],
   "source": [
    "from sklearn.model_selection import GridSearchCV   ## takes too much time to run this cell.\n",
    "clf_svm = svm.SVC()\n",
    "powers = range(0,5)\n",
    "cs = [10**i for i in powers]\n",
    "param_grid = dict(C=cs)\n",
    "grid = GridSearchCV(clf_svm, param_grid, cv=10, scoring='accuracy')\n",
    "grid.fit(data_clean.iloc[:,:-1].values, data_clean.iloc[:,-1].values)\n",
    "grid_mean_scores = [result for result in grid.cv_results_]# create a list of the mean scores only\n",
    "print(grid.best_params_)\n",
    "print(\"---------------\")\n",
    "print(grid.best_estimator_)"
   ]
  },
  {
   "cell_type": "code",
   "execution_count": 34,
   "metadata": {
    "id": "C0E7yTnOCoMi"
   },
   "outputs": [
    {
     "name": "stdout",
     "output_type": "stream",
     "text": [
      "SVM accuracy is  0.8190909090909091\n"
     ]
    },
    {
     "data": {
      "image/png": "[encoded data removed]",
      "text/plain": [
       "<Figure size 432x288 with 1 Axes>"
      ]
     },
     "metadata": {},
     "output_type": "display_data"
    },
    {
     "data": {
      "image/png": "[encoded data removed]",
      "text/plain": [
       "<Figure size 432x432 with 2 Axes>"
      ]
     },
     "metadata": {},
     "output_type": "display_data"
    }
   ],
   "source": [
    "clf_svm = svm.SVC(kernel = \"rbf\", C=grid.best_estimator_.C)\n",
    "clf_svm.fit(X_train.iloc[:,:],y_train)\n",
    "predictions_svm = clf_svm.predict(X_test.iloc[:,:])\n",
    "predictproba_svm = clf_svm.decision_function(X_test.iloc[:,:])\n",
    "SVM_Accuracy = accuracy_score(y_test,predictions_svm)\n",
    "print(\"SVM accuracy is \",SVM_Accuracy)\n",
    "plotAUC(y_test,predictproba_svm, 'SVM')\n",
    "plotAUC(y_test,rfPredictproba, 'Random Forest')\n",
    "plotAUC(y_test,LR_Predict,'Logistic Regression')\n",
    "plt.show()\n",
    "plt.figure(figsize=(6,6))\n",
    "plot_confusion_matrix(predictions_svm, normalize=True)\n",
    "plt.show()"
   ]
  },
  {
   "cell_type": "markdown",
   "metadata": {
    "id": "rGSJ5Y12c2-E"
   },
   "source": [
    "#KNN"
   ]
  },
  {
   "cell_type": "code",
   "execution_count": 35,
   "metadata": {
    "id": "yKsERdmWCpwt"
   },
   "outputs": [
    {
     "name": "stdout",
     "output_type": "stream",
     "text": [
      "{'n_neighbors': 38}\n",
      "---------------\n",
      "KNeighborsClassifier(n_neighbors=38)\n"
     ]
    }
   ],
   "source": [
    "#KNN_Acc = knnfunc(2,10) - 74.8 max, 75.7 for 15, 25 - 76.2, 30 - 76.1\n",
    "from sklearn.model_selection import GridSearchCV    ## takes too much time to run this cell.\n",
    "clf_knn = KNeighborsClassifier()\n",
    "k_range = list(range(35, 50))\n",
    "param_grid = dict(n_neighbors=k_range)\n",
    "grid = GridSearchCV(clf_knn, param_grid, cv=10, scoring='accuracy')\n",
    "grid.fit(data_clean.iloc[:,:-1].values, data_clean.iloc[:,-1].values)\n",
    "grid_mean_scores = [result for result in grid.cv_results_]# create a list of the mean scores only\n",
    "print(grid.best_params_)\n",
    "print(\"---------------\")\n",
    "print(grid.best_estimator_)"
   ]
  },
  {
   "cell_type": "code",
   "execution_count": 36,
   "metadata": {
    "id": "lpqLVAOCDE9q"
   },
   "outputs": [
    {
     "name": "stdout",
     "output_type": "stream",
     "text": [
      " 38\n",
      "KNN accuracy is  0.7595454545454545\n"
     ]
    },
    {
     "data": {
      "image/png": "[encoded data removed]",
      "text/plain": [
       "<Figure size 432x288 with 1 Axes>"
      ]
     },
     "metadata": {},
     "output_type": "display_data"
    },
    {
     "data": {
      "image/png": "[encoded data removed]",
      "text/plain": [
       "<Figure size 432x432 with 2 Axes>"
      ]
     },
     "metadata": {},
     "output_type": "display_data"
    }
   ],
   "source": [
    "print(\"\",grid.best_params_['n_neighbors'])\n",
    "clf_knn_final = KNeighborsClassifier(n_neighbors=grid.best_params_['n_neighbors'])   #taking the the best from the above cell and using it to find predictions\n",
    "clf_knn_final.fit(X_train,y_train)\n",
    "knn_pred = clf_knn_final.predict(X_test)\n",
    "knn_predictproba = clf_knn_final.predict_proba(X_test)[:,1]\n",
    "KNN_Acc = accuracy_score(y_test,knn_pred)\n",
    "print(\"KNN accuracy is \",KNN_Acc)\n",
    "plotAUC(y_test,rfPredictproba, 'Random Forest')\n",
    "plotAUC(y_test,LR_Predict,'Logistic Regression')\n",
    "#plotAUC(y_test,predictproba_svm, 'SVM')\n",
    "plotAUC(y_test,knn_predictproba,'K Nearest Neighbors')\n",
    "plt.show()\n",
    "plt.figure(figsize=(6,6))\n",
    "plot_confusion_matrix(knn_pred, normalize=True)\n",
    "plt.show()"
   ]
  },
  {
   "cell_type": "markdown",
   "metadata": {
    "id": "JFiOcAkwDY4a"
   },
   "source": [
    "# Bagging, Model Evaluation, KFold, Ensemble"
   ]
  },
  {
   "cell_type": "code",
   "execution_count": 41,
   "metadata": {
    "id": "k5NDX2AfDWjX"
   },
   "outputs": [
    {
     "name": "stdout",
     "output_type": "stream",
     "text": [
      "0.8345454545454546\n"
     ]
    }
   ],
   "source": [
    "from sklearn import model_selection\n",
    "from sklearn.ensemble import BaggingClassifier\n",
    "seed = 7\n",
    "kfold = model_selection.KFold(n_splits=10, random_state=seed, shuffle=True)\n",
    "num_trees = 100\n",
    "model = BaggingClassifier(base_estimator=randomForest, n_estimators=num_trees, random_state=seed)\n",
    "results = model_selection.cross_val_score(model, data_clean.iloc[:,:-1].values, data_clean.iloc[:,-1].values, cv=kfold)\n",
    "print(results.mean())"
   ]
  },
  {
   "cell_type": "code",
   "execution_count": 42,
   "metadata": {
    "id": "YBJ5zSqpDadS"
   },
   "outputs": [
    {
     "name": "stdout",
     "output_type": "stream",
     "text": [
      "0.8280909090909091\n"
     ]
    }
   ],
   "source": [
    "from sklearn import model_selection\n",
    "from sklearn.ensemble import BaggingClassifier\n",
    "seed = 7\n",
    "kfold = model_selection.KFold(n_splits=10, random_state=seed, shuffle=True)\n",
    "#num_trees = 100 por defecto ->10\n",
    "model = BaggingClassifier(base_estimator=clf_LR, random_state=seed)\n",
    "results = model_selection.cross_val_score(model, data_clean.iloc[:,:-1].values, data_clean.iloc[:,-1].values, cv=kfold)\n",
    "print(results.mean())"
   ]
  },
  {
   "cell_type": "markdown",
   "metadata": {
    "id": "iOlp5oWrprpR"
   },
   "source": [
    "#Ada Boost classifier"
   ]
  },
  {
   "cell_type": "markdown",
   "metadata": {
    "id": "mJIBOMYCpvM_"
   },
   "source": [
    "Ada Boost es uno de los algoritmos de conjunto más utilizados.\n",
    "Funciona ponderando las instancias en el conjunto de datos según su facilidad o dificultad para clasificar, lo que permite que el algoritmo les preste o menos atención en la construcción de modelos posteriores."
   ]
  },
  {
   "cell_type": "code",
   "execution_count": 43,
   "metadata": {
    "id": "i4jhaQ-fpyWh"
   },
   "outputs": [
    {
     "data": {
      "text/plain": [
       "0.8307272727272726"
      ]
     },
     "execution_count": 43,
     "metadata": {},
     "output_type": "execute_result"
    }
   ],
   "source": [
    "from sklearn.model_selection import cross_val_score\n",
    "from sklearn.datasets import load_iris\n",
    "from sklearn.ensemble import AdaBoostClassifier\n",
    "Ada_clf = AdaBoostClassifier(n_estimators=50)\n",
    "scores = cross_val_score(Ada_clf, data_clean.iloc[:,:-1].values, data_clean.iloc[:,-1].values)\n",
    "scores.mean()"
   ]
  },
  {
   "cell_type": "markdown",
   "metadata": {
    "id": "GB6jbgFsrQnK"
   },
   "source": [
    "#xgBoost classifier"
   ]
  },
  {
   "cell_type": "code",
   "execution_count": 54,
   "metadata": {
    "id": "19Yl-ISarXpC"
   },
   "outputs": [
    {
     "name": "stdout",
     "output_type": "stream",
     "text": [
      "[01:04:25] WARNING: ..\\src\\learner.cc:1095: Starting in XGBoost 1.3.0, the default evaluation metric used with the objective 'binary:logistic' was changed from 'error' to 'logloss'. Explicitly set eval_metric if you'd like to restore the old behavior.\n",
      "Accuracy: 83.50%\n"
     ]
    }
   ],
   "source": [
    "from numpy import loadtxt\n",
    "from xgboost import XGBClassifier\n",
    "from sklearn.model_selection import train_test_split\n",
    "from sklearn.metrics import accuracy_score\n",
    "\n",
    "seed = 42\n",
    "test_size = 0.2\n",
    "X_train, X_test, y_train, y_test = train_test_split(data_clean.iloc[:,:-1], data_clean.iloc[:,-1], test_size=test_size, random_state=seed)\n",
    "model = XGBClassifier()\n",
    "model.fit(X_train, y_train)\n",
    "y_pred = model.predict(X_test)\n",
    "predictions = [round(value) for value in y_pred]\n",
    "accuracy = accuracy_score(y_test, predictions)\n",
    "print(\"Accuracy: %.2f%%\" % (accuracy * 100.0))"
   ]
  },
  {
   "cell_type": "markdown",
   "metadata": {
    "id": "oFC7X92iJOI0"
   },
   "source": [
    "# Neural Network, MLPClassifier"
   ]
  },
  {
   "cell_type": "code",
   "execution_count": 55,
   "metadata": {
    "id": "brMnS3o4JOud"
   },
   "outputs": [
    {
     "name": "stdout",
     "output_type": "stream",
     "text": [
      "0.8327272727272728\n"
     ]
    },
    {
     "data": {
      "image/png": "[encoded data removed]",
      "text/plain": [
       "<Figure size 432x288 with 1 Axes>"
      ]
     },
     "metadata": {},
     "output_type": "display_data"
    },
    {
     "data": {
      "image/png": "[encoded data removed]",
      "text/plain": [
       "<Figure size 432x432 with 2 Axes>"
      ]
     },
     "metadata": {},
     "output_type": "display_data"
    }
   ],
   "source": [
    "from sklearn.neural_network import MLPClassifier\n",
    "clf_NN = MLPClassifier(solver='lbfgs', alpha=1e-5,hidden_layer_sizes=(5, 2), random_state=1)\n",
    "clf_NN.fit(X_train,y_train)     \n",
    "predict_NN = clf_NN.predict(X_test)\n",
    "predictproba_NN = clf_NN.predict_proba(X_test)[:,1]\n",
    "NNAccuracy = accuracy_score(y_test,predict_NN)\n",
    "print(NNAccuracy)\n",
    "plotAUC(y_test,rfPredictproba, 'Random Forest')\n",
    "plotAUC(y_test,LR_Predict,'Logistic Regression')\n",
    "plotAUC(y_test,predictproba_svm, 'SVM')\n",
    "plotAUC(y_test,knn_predictproba,'K Nearest Neighbors')\n",
    "plotAUC(y_test,predictproba_NN,'MLP')\n",
    "plt.show()\n",
    "plt.figure(figsize=(6,6))\n",
    "plot_confusion_matrix(predict_NN, normalize=True)\n",
    "plt.show()"
   ]
  },
  {
   "cell_type": "markdown",
   "metadata": {
    "id": "jh81rQOqJTt5"
   },
   "source": [
    "# Generate Classification Report"
   ]
  },
  {
   "cell_type": "code",
   "execution_count": 56,
   "metadata": {
    "id": "JzLP816FJQvj"
   },
   "outputs": [
    {
     "name": "stdout",
     "output_type": "stream",
     "text": [
      "RF               precision    recall  f1-score   support\n",
      "\n",
      "           0       0.90      0.76      0.83      1123\n",
      "           1       0.79      0.91      0.84      1077\n",
      "\n",
      "    accuracy                           0.83      2200\n",
      "   macro avg       0.84      0.84      0.83      2200\n",
      "weighted avg       0.84      0.83      0.83      2200\n",
      "\n",
      "SVM               precision    recall  f1-score   support\n",
      "\n",
      "           0       0.92      0.70      0.80      1123\n",
      "           1       0.75      0.94      0.84      1077\n",
      "\n",
      "    accuracy                           0.82      2200\n",
      "   macro avg       0.84      0.82      0.82      2200\n",
      "weighted avg       0.84      0.82      0.82      2200\n",
      "\n",
      "LR               precision    recall  f1-score   support\n",
      "\n",
      "           0       0.91      0.73      0.81      1123\n",
      "           1       0.77      0.93      0.84      1077\n",
      "\n",
      "    accuracy                           0.83      2200\n",
      "   macro avg       0.84      0.83      0.82      2200\n",
      "weighted avg       0.84      0.83      0.82      2200\n",
      "\n",
      "KNN               precision    recall  f1-score   support\n",
      "\n",
      "           0       0.82      0.68      0.74      1123\n",
      "           1       0.72      0.84      0.77      1077\n",
      "\n",
      "    accuracy                           0.76      2200\n",
      "   macro avg       0.77      0.76      0.76      2200\n",
      "weighted avg       0.77      0.76      0.76      2200\n",
      "\n",
      "MLP               precision    recall  f1-score   support\n",
      "\n",
      "           0       0.92      0.74      0.82      1123\n",
      "           1       0.77      0.93      0.84      1077\n",
      "\n",
      "    accuracy                           0.83      2200\n",
      "   macro avg       0.85      0.83      0.83      2200\n",
      "weighted avg       0.85      0.83      0.83      2200\n",
      "\n"
     ]
    }
   ],
   "source": [
    "from sklearn.metrics import classification_report\n",
    "print(\"RF\",classification_report(y_test, rfPredict, target_names=None))\n",
    "print(\"SVM\",classification_report(y_test, predictions_svm, target_names=None))\n",
    "print(\"LR\",classification_report(y_test, LR_Predict_bin, target_names=None))\n",
    "print(\"KNN\",classification_report(y_test, knn_pred, target_names=None))\n",
    "print(\"MLP\",classification_report(y_test, predict_NN, target_names=None))"
   ]
  },
  {
   "cell_type": "markdown",
   "metadata": {
    "id": "VnZ4GskgJYHy"
   },
   "source": [
    "# Mod Bootstrapping"
   ]
  },
  {
   "cell_type": "code",
   "execution_count": 57,
   "metadata": {
    "id": "P3nOvWa6JVdD"
   },
   "outputs": [],
   "source": [
    "def modBootstrapper(train, test, nruns, sampsize, model, c):\n",
    "    target = 'loan_status'\n",
    "    aucs_boot = []\n",
    "    for i in range(nruns):\n",
    "        train_samp = train.iloc[np.random.randint(0, len(train), size = sampsize)] #selecting random indexes for KFold\n",
    "        if (model == \"LR\"):\n",
    "            lr_i = linear_model.LogisticRegression(C = 1e30)\n",
    "            lr_i.fit(train_samp.drop(target,1), train_samp[target]) #Logistic regression\n",
    "            p = lr_i.predict_proba(test.drop(target,1))[:,1]\n",
    "        elif (model == \"SVM\"):\n",
    "            svm_i = svm.SVC(kernel='rbf', C = c) \n",
    "            svm_i.fit(train_samp.drop(target,1), train_samp[target])#SVM fitting and predicting if lr==0\n",
    "            p = svm_i.decision_function(test.drop(target,1))\n",
    "        elif (model == \"RF\"):\n",
    "            RF_i = RandomForestClassifier(bootstrap=True,criterion = \"gini\")\n",
    "            RF_i.fit(train_samp.drop(target,1), train_samp[target])\n",
    "            p = RF_i.predict_proba(X_test)[:,1]\n",
    "        elif (model == \"KNN\"):\n",
    "            knn_i = KNeighborsClassifier(n_neighbors= 30) #taking the the best from the above cell and using it to find predictions\n",
    "            knn_i.fit(train_samp.drop(target,1), train_samp[target])\n",
    "            p = knn_i.predict_proba(X_test)[:,1]\n",
    "            \n",
    "        aucs_boot.append(metrics.roc_auc_score(test[target], p)) #calculating auc scores for each bag in bootstrapping\n",
    "    \n",
    "    return [np.mean(aucs_boot), np.sqrt(np.var(aucs_boot))] #mean, standard error = square root of variance"
   ]
  },
  {
   "cell_type": "code",
   "execution_count": 58,
   "metadata": {
    "id": "LGMh3cyBJbi8"
   },
   "outputs": [
    {
     "name": "stdout",
     "output_type": "stream",
     "text": [
      "250\n",
      "1000\n",
      "1500\n",
      "2000\n",
      "2750\n",
      "3750\n",
      "4500\n",
      "5200\n",
      "6500\n",
      "7000\n",
      "8000\n",
      "8500\n",
      "9000\n",
      "10000\n",
      "11000\n"
     ]
    }
   ],
   "source": [
    "bs_train, bs_test = train_test_split(data_clean, test_size = 0.2, random_state=42) #just for bootstrapping\n",
    "SampleSizes = [250,1000,1500,2000,2750,3750,4500,5200,6500,7000,8000,8500,9000,10000,11000] #various samples of Dataset\n",
    "LR_means = []\n",
    "Lr_stderr = []\n",
    "svm_means = []\n",
    "svm_stderr = []\n",
    "RF_means = []\n",
    "RF_stderr = []\n",
    "KNN_means = []\n",
    "KNN_stderr = []\n",
    "for n in SampleSizes:\n",
    "    mean, err = modBootstrapper(bs_train, bs_test, 20, n, \"LR\", 0.1)# collecting means and stderrs for LR model\n",
    "    LR_means.append(mean)\n",
    "    Lr_stderr.append(err)\n",
    "    mean2, err2 = modBootstrapper(bs_train, bs_test, 20, n,\"SVM\", 0.1)# collecting means and stderrs for SVM model\n",
    "    svm_means.append(mean2)\n",
    "    svm_stderr.append(err2)\n",
    "    mean3, err3 = modBootstrapper(bs_train, bs_test, 20, n,\"RF\", 0.1)# collecting means and stderrs for SVM model\n",
    "    RF_means.append(mean3)\n",
    "    RF_stderr.append(err3)\n",
    "    mean4, err4 = modBootstrapper(bs_train, bs_test, 20, n,\"KNN\", 0.1)# collecting means and stderrs for SVM model\n",
    "    KNN_means.append(mean4)\n",
    "    KNN_stderr.append(err4)\n",
    "    print(n)"
   ]
  },
  {
   "cell_type": "markdown",
   "metadata": {
    "id": "tE6yy62FJeR8"
   },
   "source": [
    "# Plot Logarithmic Curve, ROC AUC Score"
   ]
  },
  {
   "cell_type": "code",
   "execution_count": 59,
   "metadata": {
    "id": "atbJ5YHZJe6t"
   },
   "outputs": [
    {
     "data": {
      "text/plain": [
       "Text(0, 0.5, 'roc_auc_score')"
      ]
     },
     "execution_count": 59,
     "metadata": {},
     "output_type": "execute_result"
    },
    {
     "data": {
      "image/png": "[encoded data removed]",
      "text/plain": [
       "<Figure size 432x288 with 1 Axes>"
      ]
     },
     "metadata": {},
     "output_type": "display_data"
    }
   ],
   "source": [
    "plt.plot(np.log2(SampleSizes), LR_means, 'r', label = 'LR means')\n",
    "plt.plot(np.log2(SampleSizes), LR_means + np.array(Lr_stderr), 'r+-', label = 'LR means + stderr')\n",
    "plt.plot(np.log2(SampleSizes), LR_means - np.array(Lr_stderr), 'r--',  label = 'LR means + stderr')\n",
    "\n",
    "plt.plot(np.log2(SampleSizes), svm_means, 'g', label = 'SVM means')\n",
    "plt.plot(np.log2(SampleSizes), svm_means + np.array(svm_stderr), 'g+-', label = 'SVM means + stderr')\n",
    "plt.plot(np.log2(SampleSizes), svm_means - np.array(svm_stderr), 'g--', label = 'SVM means - stderr')\n",
    "\n",
    "plt.plot(np.log2(SampleSizes), RF_means, 'b', label = 'RF means')\n",
    "plt.plot(np.log2(SampleSizes), RF_means + np.array(RF_stderr), 'b+-', label = 'RF means + stderr')\n",
    "plt.plot(np.log2(SampleSizes), RF_means - np.array(RF_stderr), 'b--', label = 'RF means - stderr')\n",
    "\n",
    "plt.plot(np.log2(SampleSizes), KNN_means, 'm', label = 'KNN means')\n",
    "plt.plot(np.log2(SampleSizes), KNN_means + np.array(KNN_stderr), 'm+-', label = 'KNN means + stderr')\n",
    "plt.plot(np.log2(SampleSizes), KNN_means - np.array(KNN_stderr), 'm--', label = 'KNN means - stderr')\n",
    "\n",
    "plt.legend(bbox_to_anchor=(1.20, 0.5),loc = 10)\n",
    "plt.xlabel('Log2(Sample Sizes)')\n",
    "plt.ylabel('roc_auc_score')"
   ]
  },
  {
   "cell_type": "code",
   "execution_count": null,
   "metadata": {},
   "outputs": [],
   "source": []
  }
 ],
 "metadata": {
  "accelerator": "GPU",
  "colab": {
   "name": "TesisVer2.ipynb",
   "provenance": []
  },
  "kernelspec": {
   "display_name": "Python 3",
   "language": "python",
   "name": "python3"
  },
  "language_info": {
   "codemirror_mode": {
    "name": "ipython",
    "version": 3
   },
   "file_extension": ".py",
   "mimetype": "text/x-python",
   "name": "python",
   "nbconvert_exporter": "python",
   "pygments_lexer": "ipython3",
   "version": "3.8.8"
  }
 },
 "nbformat": 4,
 "nbformat_minor": 1
}
